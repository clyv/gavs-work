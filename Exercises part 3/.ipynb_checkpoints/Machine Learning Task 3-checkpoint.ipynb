{
 "cells": [
  {
   "cell_type": "markdown",
   "id": "60dd2142",
   "metadata": {},
   "source": [
    "## Tokenizing"
   ]
  },
  {
   "cell_type": "code",
   "execution_count": 1,
   "id": "8161d31e",
   "metadata": {},
   "outputs": [],
   "source": [
    "import nltk\n",
    "from nltk.tokenize import sent_tokenize, word_tokenize"
   ]
  },
  {
   "cell_type": "code",
   "execution_count": 2,
   "id": "342e42fb",
   "metadata": {},
   "outputs": [],
   "source": [
    "example_string = \"\"\"Muad'Dib learned rapidly because his first training was in how to learn. And the first lesson of all was \n",
    "the basic trust that he could learn. It's shocking to find how many people do not believe they can learn, and how many more \n",
    "believe learning to be difficult.\"\"\""
   ]
  },
  {
   "cell_type": "code",
   "execution_count": 3,
   "id": "d3feab90",
   "metadata": {},
   "outputs": [
    {
     "data": {
      "text/plain": [
       "[\"Muad'Dib learned rapidly because his first training was in how to learn.\",\n",
       " 'And the first lesson of all was the \\nbasic trust that he could learn.',\n",
       " \"It's shocking to find how many people do not believe they can learn, and how many more believe \\nlearning to be difficult.\"]"
      ]
     },
     "execution_count": 3,
     "metadata": {},
     "output_type": "execute_result"
    }
   ],
   "source": [
    "sent_tokenize(example_string)"
   ]
  },
  {
   "cell_type": "code",
   "execution_count": 4,
   "id": "488b31ef",
   "metadata": {},
   "outputs": [
    {
     "data": {
      "text/plain": [
       "[\"Muad'Dib\",\n",
       " 'learned',\n",
       " 'rapidly',\n",
       " 'because',\n",
       " 'his',\n",
       " 'first',\n",
       " 'training',\n",
       " 'was',\n",
       " 'in',\n",
       " 'how',\n",
       " 'to',\n",
       " 'learn',\n",
       " '.',\n",
       " 'And',\n",
       " 'the',\n",
       " 'first',\n",
       " 'lesson',\n",
       " 'of',\n",
       " 'all',\n",
       " 'was',\n",
       " 'the',\n",
       " 'basic',\n",
       " 'trust',\n",
       " 'that',\n",
       " 'he',\n",
       " 'could',\n",
       " 'learn',\n",
       " '.',\n",
       " 'It',\n",
       " \"'s\",\n",
       " 'shocking',\n",
       " 'to',\n",
       " 'find',\n",
       " 'how',\n",
       " 'many',\n",
       " 'people',\n",
       " 'do',\n",
       " 'not',\n",
       " 'believe',\n",
       " 'they',\n",
       " 'can',\n",
       " 'learn',\n",
       " ',',\n",
       " 'and',\n",
       " 'how',\n",
       " 'many',\n",
       " 'more',\n",
       " 'believe',\n",
       " 'learning',\n",
       " 'to',\n",
       " 'be',\n",
       " 'difficult',\n",
       " '.']"
      ]
     },
     "execution_count": 4,
     "metadata": {},
     "output_type": "execute_result"
    }
   ],
   "source": [
    "word_tokenize(example_string)"
   ]
  },
  {
   "cell_type": "markdown",
   "id": "4015bd77",
   "metadata": {},
   "source": [
    "## Filtering Stopwords"
   ]
  },
  {
   "cell_type": "code",
   "execution_count": 5,
   "id": "6b94ac6d",
   "metadata": {},
   "outputs": [
    {
     "name": "stderr",
     "output_type": "stream",
     "text": [
      "[nltk_data] Downloading package stopwords to\n",
      "[nltk_data]     C:\\Users\\clivinjohn.geju\\AppData\\Roaming\\nltk_data...\n",
      "[nltk_data]   Package stopwords is already up-to-date!\n"
     ]
    }
   ],
   "source": [
    "nltk.download(\"stopwords\")\n",
    "from nltk.corpus import stopwords"
   ]
  },
  {
   "cell_type": "code",
   "execution_count": 6,
   "id": "c4e7f194",
   "metadata": {},
   "outputs": [],
   "source": [
    "word_quote = \"Sir, I protest. I am not a merry man!\""
   ]
  },
  {
   "cell_type": "code",
   "execution_count": 7,
   "id": "4ea3b370",
   "metadata": {},
   "outputs": [
    {
     "data": {
      "text/plain": [
       "['Sir', ',', 'I', 'protest', '.', 'I', 'am', 'not', 'a', 'merry', 'man', '!']"
      ]
     },
     "execution_count": 7,
     "metadata": {},
     "output_type": "execute_result"
    }
   ],
   "source": [
    "words_in_quote = word_tokenize(word_quote)\n",
    "words_in_quote"
   ]
  },
  {
   "cell_type": "code",
   "execution_count": 8,
   "id": "a3170adc",
   "metadata": {},
   "outputs": [],
   "source": [
    "stop_words = set(stopwords.words(\"english\"))"
   ]
  },
  {
   "cell_type": "code",
   "execution_count": 9,
   "id": "930e34dc",
   "metadata": {},
   "outputs": [],
   "source": [
    "filtered_list = []"
   ]
  },
  {
   "cell_type": "code",
   "execution_count": 10,
   "id": "1ba351cc",
   "metadata": {},
   "outputs": [],
   "source": [
    "for word in words_in_quote:\n",
    "    if word.casefold() not in stop_words:\n",
    "        filtered_list.append(word)"
   ]
  },
  {
   "cell_type": "code",
   "execution_count": 11,
   "id": "7b381ab2",
   "metadata": {},
   "outputs": [
    {
     "data": {
      "text/plain": [
       "['Sir', ',', 'protest', '.', 'merry', 'man', '!']"
      ]
     },
     "execution_count": 11,
     "metadata": {},
     "output_type": "execute_result"
    }
   ],
   "source": [
    "filtered_list"
   ]
  },
  {
   "cell_type": "markdown",
   "id": "1cc9bc79",
   "metadata": {},
   "source": [
    "## Stemming"
   ]
  },
  {
   "cell_type": "code",
   "execution_count": 12,
   "id": "a3b240dd",
   "metadata": {},
   "outputs": [],
   "source": [
    "from nltk.stem import PorterStemmer\n",
    "from nltk.tokenize import word_tokenize"
   ]
  },
  {
   "cell_type": "code",
   "execution_count": 13,
   "id": "7bf16d3a",
   "metadata": {},
   "outputs": [],
   "source": [
    "stemmer = PorterStemmer()"
   ]
  },
  {
   "cell_type": "code",
   "execution_count": 14,
   "id": "e63dae68",
   "metadata": {},
   "outputs": [],
   "source": [
    "string_for_stemming = \"The crew of the USS Discovery discovered many discoveries. Discovering is what explorers do.\""
   ]
  },
  {
   "cell_type": "code",
   "execution_count": 15,
   "id": "483c6376",
   "metadata": {},
   "outputs": [
    {
     "data": {
      "text/plain": [
       "['The',\n",
       " 'crew',\n",
       " 'of',\n",
       " 'the',\n",
       " 'USS',\n",
       " 'Discovery',\n",
       " 'discovered',\n",
       " 'many',\n",
       " 'discoveries',\n",
       " '.',\n",
       " 'Discovering',\n",
       " 'is',\n",
       " 'what',\n",
       " 'explorers',\n",
       " 'do',\n",
       " '.']"
      ]
     },
     "execution_count": 15,
     "metadata": {},
     "output_type": "execute_result"
    }
   ],
   "source": [
    "words = word_tokenize(string_for_stemming)\n",
    "words"
   ]
  },
  {
   "cell_type": "code",
   "execution_count": 16,
   "id": "6ef9753a",
   "metadata": {},
   "outputs": [
    {
     "data": {
      "text/plain": [
       "['the',\n",
       " 'crew',\n",
       " 'of',\n",
       " 'the',\n",
       " 'uss',\n",
       " 'discoveri',\n",
       " 'discov',\n",
       " 'mani',\n",
       " 'discoveri',\n",
       " '.',\n",
       " 'discov',\n",
       " 'is',\n",
       " 'what',\n",
       " 'explor',\n",
       " 'do',\n",
       " '.']"
      ]
     },
     "execution_count": 16,
     "metadata": {},
     "output_type": "execute_result"
    }
   ],
   "source": [
    "stemmed_words = [stemmer.stem(word) for word in words]\n",
    "stemmed_words"
   ]
  },
  {
   "cell_type": "markdown",
   "id": "e5f30b1f",
   "metadata": {},
   "source": [
    "## Tagging Parts of Speech"
   ]
  },
  {
   "cell_type": "code",
   "execution_count": 17,
   "id": "851dba93",
   "metadata": {},
   "outputs": [],
   "source": [
    "sagan_quote = \"If you wish to make an apple pie from scratch, you must first invent the universe.\""
   ]
  },
  {
   "cell_type": "code",
   "execution_count": 18,
   "id": "a0632524",
   "metadata": {},
   "outputs": [],
   "source": [
    "words_in_sagan_quote = word_tokenize(sagan_quote)"
   ]
  },
  {
   "cell_type": "code",
   "execution_count": 19,
   "id": "ab760e59",
   "metadata": {},
   "outputs": [
    {
     "data": {
      "text/plain": [
       "[('If', 'IN'),\n",
       " ('you', 'PRP'),\n",
       " ('wish', 'VBP'),\n",
       " ('to', 'TO'),\n",
       " ('make', 'VB'),\n",
       " ('an', 'DT'),\n",
       " ('apple', 'NN'),\n",
       " ('pie', 'NN'),\n",
       " ('from', 'IN'),\n",
       " ('scratch', 'NN'),\n",
       " (',', ','),\n",
       " ('you', 'PRP'),\n",
       " ('must', 'MD'),\n",
       " ('first', 'VB'),\n",
       " ('invent', 'VB'),\n",
       " ('the', 'DT'),\n",
       " ('universe', 'NN'),\n",
       " ('.', '.')]"
      ]
     },
     "execution_count": 19,
     "metadata": {},
     "output_type": "execute_result"
    }
   ],
   "source": [
    "nltk.pos_tag(words_in_sagan_quote)"
   ]
  },
  {
   "cell_type": "code",
   "execution_count": 20,
   "id": "98ec44f1",
   "metadata": {},
   "outputs": [
    {
     "name": "stdout",
     "output_type": "stream",
     "text": [
      "$: dollar\n",
      "    $ -$ --$ A$ C$ HK$ M$ NZ$ S$ U.S.$ US$\n",
      "'': closing quotation mark\n",
      "    ' ''\n",
      "(: opening parenthesis\n",
      "    ( [ {\n",
      "): closing parenthesis\n",
      "    ) ] }\n",
      ",: comma\n",
      "    ,\n",
      "--: dash\n",
      "    --\n",
      ".: sentence terminator\n",
      "    . ! ?\n",
      ":: colon or ellipsis\n",
      "    : ; ...\n",
      "CC: conjunction, coordinating\n",
      "    & 'n and both but either et for less minus neither nor or plus so\n",
      "    therefore times v. versus vs. whether yet\n",
      "CD: numeral, cardinal\n",
      "    mid-1890 nine-thirty forty-two one-tenth ten million 0.5 one forty-\n",
      "    seven 1987 twenty '79 zero two 78-degrees eighty-four IX '60s .025\n",
      "    fifteen 271,124 dozen quintillion DM2,000 ...\n",
      "DT: determiner\n",
      "    all an another any both del each either every half la many much nary\n",
      "    neither no some such that the them these this those\n",
      "EX: existential there\n",
      "    there\n",
      "FW: foreign word\n",
      "    gemeinschaft hund ich jeux habeas Haementeria Herr K'ang-si vous\n",
      "    lutihaw alai je jour objets salutaris fille quibusdam pas trop Monte\n",
      "    terram fiche oui corporis ...\n",
      "IN: preposition or conjunction, subordinating\n",
      "    astride among uppon whether out inside pro despite on by throughout\n",
      "    below within for towards near behind atop around if like until below\n",
      "    next into if beside ...\n",
      "JJ: adjective or numeral, ordinal\n",
      "    third ill-mannered pre-war regrettable oiled calamitous first separable\n",
      "    ectoplasmic battery-powered participatory fourth still-to-be-named\n",
      "    multilingual multi-disciplinary ...\n",
      "JJR: adjective, comparative\n",
      "    bleaker braver breezier briefer brighter brisker broader bumper busier\n",
      "    calmer cheaper choosier cleaner clearer closer colder commoner costlier\n",
      "    cozier creamier crunchier cuter ...\n",
      "JJS: adjective, superlative\n",
      "    calmest cheapest choicest classiest cleanest clearest closest commonest\n",
      "    corniest costliest crassest creepiest crudest cutest darkest deadliest\n",
      "    dearest deepest densest dinkiest ...\n",
      "LS: list item marker\n",
      "    A A. B B. C C. D E F First G H I J K One SP-44001 SP-44002 SP-44005\n",
      "    SP-44007 Second Third Three Two * a b c d first five four one six three\n",
      "    two\n",
      "MD: modal auxiliary\n",
      "    can cannot could couldn't dare may might must need ought shall should\n",
      "    shouldn't will would\n",
      "NN: noun, common, singular or mass\n",
      "    common-carrier cabbage knuckle-duster Casino afghan shed thermostat\n",
      "    investment slide humour falloff slick wind hyena override subhumanity\n",
      "    machinist ...\n",
      "NNP: noun, proper, singular\n",
      "    Motown Venneboerger Czestochwa Ranzer Conchita Trumplane Christos\n",
      "    Oceanside Escobar Kreisler Sawyer Cougar Yvette Ervin ODI Darryl CTCA\n",
      "    Shannon A.K.C. Meltex Liverpool ...\n",
      "NNPS: noun, proper, plural\n",
      "    Americans Americas Amharas Amityvilles Amusements Anarcho-Syndicalists\n",
      "    Andalusians Andes Andruses Angels Animals Anthony Antilles Antiques\n",
      "    Apache Apaches Apocrypha ...\n",
      "NNS: noun, common, plural\n",
      "    undergraduates scotches bric-a-brac products bodyguards facets coasts\n",
      "    divestitures storehouses designs clubs fragrances averages\n",
      "    subjectivists apprehensions muses factory-jobs ...\n",
      "PDT: pre-determiner\n",
      "    all both half many quite such sure this\n",
      "POS: genitive marker\n",
      "    ' 's\n",
      "PRP: pronoun, personal\n",
      "    hers herself him himself hisself it itself me myself one oneself ours\n",
      "    ourselves ownself self she thee theirs them themselves they thou thy us\n",
      "PRP$: pronoun, possessive\n",
      "    her his mine my our ours their thy your\n",
      "RB: adverb\n",
      "    occasionally unabatingly maddeningly adventurously professedly\n",
      "    stirringly prominently technologically magisterially predominately\n",
      "    swiftly fiscally pitilessly ...\n",
      "RBR: adverb, comparative\n",
      "    further gloomier grander graver greater grimmer harder harsher\n",
      "    healthier heavier higher however larger later leaner lengthier less-\n",
      "    perfectly lesser lonelier longer louder lower more ...\n",
      "RBS: adverb, superlative\n",
      "    best biggest bluntest earliest farthest first furthest hardest\n",
      "    heartiest highest largest least less most nearest second tightest worst\n",
      "RP: particle\n",
      "    aboard about across along apart around aside at away back before behind\n",
      "    by crop down ever fast for forth from go high i.e. in into just later\n",
      "    low more off on open out over per pie raising start teeth that through\n",
      "    under unto up up-pp upon whole with you\n",
      "SYM: symbol\n",
      "    % & ' '' ''. ) ). * + ,. < = > @ A[fj] U.S U.S.S.R * ** ***\n",
      "TO: \"to\" as preposition or infinitive marker\n",
      "    to\n",
      "UH: interjection\n",
      "    Goodbye Goody Gosh Wow Jeepers Jee-sus Hubba Hey Kee-reist Oops amen\n",
      "    huh howdy uh dammit whammo shucks heck anyways whodunnit honey golly\n",
      "    man baby diddle hush sonuvabitch ...\n",
      "VB: verb, base form\n",
      "    ask assemble assess assign assume atone attention avoid bake balkanize\n",
      "    bank begin behold believe bend benefit bevel beware bless boil bomb\n",
      "    boost brace break bring broil brush build ...\n",
      "VBD: verb, past tense\n",
      "    dipped pleaded swiped regummed soaked tidied convened halted registered\n",
      "    cushioned exacted snubbed strode aimed adopted belied figgered\n",
      "    speculated wore appreciated contemplated ...\n",
      "VBG: verb, present participle or gerund\n",
      "    telegraphing stirring focusing angering judging stalling lactating\n",
      "    hankerin' alleging veering capping approaching traveling besieging\n",
      "    encrypting interrupting erasing wincing ...\n",
      "VBN: verb, past participle\n",
      "    multihulled dilapidated aerosolized chaired languished panelized used\n",
      "    experimented flourished imitated reunifed factored condensed sheared\n",
      "    unsettled primed dubbed desired ...\n",
      "VBP: verb, present tense, not 3rd person singular\n",
      "    predominate wrap resort sue twist spill cure lengthen brush terminate\n",
      "    appear tend stray glisten obtain comprise detest tease attract\n",
      "    emphasize mold postpone sever return wag ...\n",
      "VBZ: verb, present tense, 3rd person singular\n",
      "    bases reconstructs marks mixes displeases seals carps weaves snatches\n",
      "    slumps stretches authorizes smolders pictures emerges stockpiles\n",
      "    seduces fizzes uses bolsters slaps speaks pleads ...\n",
      "WDT: WH-determiner\n",
      "    that what whatever which whichever\n",
      "WP: WH-pronoun\n",
      "    that what whatever whatsoever which who whom whosoever\n",
      "WP$: WH-pronoun, possessive\n",
      "    whose\n",
      "WRB: Wh-adverb\n",
      "    how however whence whenever where whereby whereever wherein whereof why\n",
      "``: opening quotation mark\n",
      "    ` ``\n"
     ]
    }
   ],
   "source": [
    "nltk.help.upenn_tagset()"
   ]
  },
  {
   "cell_type": "code",
   "execution_count": 21,
   "id": "15f1fe4f",
   "metadata": {},
   "outputs": [],
   "source": [
    "jabberwocky_excerpt = \"\"\"'Twas brillig, and the slithy toves did gyre and gimble in the wabe: all mimsy were the borogoves, and \n",
    "the mome raths outgrabe.\"\"\""
   ]
  },
  {
   "cell_type": "code",
   "execution_count": 22,
   "id": "4161a9a5",
   "metadata": {},
   "outputs": [],
   "source": [
    "words_in_excerpt = word_tokenize(jabberwocky_excerpt)"
   ]
  },
  {
   "cell_type": "code",
   "execution_count": 23,
   "id": "927ae48c",
   "metadata": {},
   "outputs": [
    {
     "data": {
      "text/plain": [
       "[(\"'T\", 'NN'),\n",
       " ('was', 'VBD'),\n",
       " ('brillig', 'VBN'),\n",
       " (',', ','),\n",
       " ('and', 'CC'),\n",
       " ('the', 'DT'),\n",
       " ('slithy', 'JJ'),\n",
       " ('toves', 'NNS'),\n",
       " ('did', 'VBD'),\n",
       " ('gyre', 'NN'),\n",
       " ('and', 'CC'),\n",
       " ('gimble', 'JJ'),\n",
       " ('in', 'IN'),\n",
       " ('the', 'DT'),\n",
       " ('wabe', 'NN'),\n",
       " (':', ':'),\n",
       " ('all', 'DT'),\n",
       " ('mimsy', 'NNS'),\n",
       " ('were', 'VBD'),\n",
       " ('the', 'DT'),\n",
       " ('borogoves', 'NNS'),\n",
       " (',', ','),\n",
       " ('and', 'CC'),\n",
       " ('the', 'DT'),\n",
       " ('mome', 'JJ'),\n",
       " ('raths', 'NNS'),\n",
       " ('outgrabe', 'RB'),\n",
       " ('.', '.')]"
      ]
     },
     "execution_count": 23,
     "metadata": {},
     "output_type": "execute_result"
    }
   ],
   "source": [
    "nltk.pos_tag(words_in_excerpt)"
   ]
  },
  {
   "cell_type": "markdown",
   "id": "34f2f13f",
   "metadata": {},
   "source": [
    "## Lemmatizing"
   ]
  },
  {
   "cell_type": "code",
   "execution_count": 24,
   "id": "d3410c58",
   "metadata": {},
   "outputs": [],
   "source": [
    "from nltk.stem import WordNetLemmatizer"
   ]
  },
  {
   "cell_type": "code",
   "execution_count": 25,
   "id": "121a90b8",
   "metadata": {},
   "outputs": [],
   "source": [
    "lemmatizer = WordNetLemmatizer()"
   ]
  },
  {
   "cell_type": "code",
   "execution_count": 26,
   "id": "65b5481e",
   "metadata": {},
   "outputs": [
    {
     "data": {
      "text/plain": [
       "'scarf'"
      ]
     },
     "execution_count": 26,
     "metadata": {},
     "output_type": "execute_result"
    }
   ],
   "source": [
    "lemmatizer.lemmatize(\"scarves\")"
   ]
  },
  {
   "cell_type": "code",
   "execution_count": 27,
   "id": "c30a4b09",
   "metadata": {},
   "outputs": [],
   "source": [
    "string_for_lemmatizing = \"The friends of DeSoto love scarves.\""
   ]
  },
  {
   "cell_type": "code",
   "execution_count": 28,
   "id": "6714eeb1",
   "metadata": {},
   "outputs": [
    {
     "data": {
      "text/plain": [
       "['The', 'friends', 'of', 'DeSoto', 'love', 'scarves', '.']"
      ]
     },
     "execution_count": 28,
     "metadata": {},
     "output_type": "execute_result"
    }
   ],
   "source": [
    "words = word_tokenize(string_for_lemmatizing)\n",
    "words"
   ]
  },
  {
   "cell_type": "code",
   "execution_count": 29,
   "id": "8e0ddfe0",
   "metadata": {},
   "outputs": [
    {
     "data": {
      "text/plain": [
       "['The', 'friend', 'of', 'DeSoto', 'love', 'scarf', '.']"
      ]
     },
     "execution_count": 29,
     "metadata": {},
     "output_type": "execute_result"
    }
   ],
   "source": [
    "lemmatized_words = [lemmatizer.lemmatize(word) for word in words]\n",
    "lemmatized_words"
   ]
  },
  {
   "cell_type": "code",
   "execution_count": 30,
   "id": "425497ce",
   "metadata": {},
   "outputs": [
    {
     "data": {
      "text/plain": [
       "'worst'"
      ]
     },
     "execution_count": 30,
     "metadata": {},
     "output_type": "execute_result"
    }
   ],
   "source": [
    "lemmatizer.lemmatize(\"worst\")"
   ]
  },
  {
   "cell_type": "code",
   "execution_count": 31,
   "id": "00072e31",
   "metadata": {},
   "outputs": [
    {
     "data": {
      "text/plain": [
       "'bad'"
      ]
     },
     "execution_count": 31,
     "metadata": {},
     "output_type": "execute_result"
    }
   ],
   "source": [
    "lemmatizer.lemmatize(\"worst\", pos=\"a\")"
   ]
  },
  {
   "cell_type": "markdown",
   "id": "2e8b2f83",
   "metadata": {},
   "source": [
    "## Chunking"
   ]
  },
  {
   "cell_type": "code",
   "execution_count": 32,
   "id": "e7b5a148",
   "metadata": {},
   "outputs": [],
   "source": [
    "lotr_quote = \"It's a dangerous business, Frodo, going out your door.\""
   ]
  },
  {
   "cell_type": "code",
   "execution_count": 33,
   "id": "d232faed",
   "metadata": {},
   "outputs": [
    {
     "data": {
      "text/plain": [
       "['It',\n",
       " \"'s\",\n",
       " 'a',\n",
       " 'dangerous',\n",
       " 'business',\n",
       " ',',\n",
       " 'Frodo',\n",
       " ',',\n",
       " 'going',\n",
       " 'out',\n",
       " 'your',\n",
       " 'door',\n",
       " '.']"
      ]
     },
     "execution_count": 33,
     "metadata": {},
     "output_type": "execute_result"
    }
   ],
   "source": [
    "words_in_lotr_quote = word_tokenize(lotr_quote)\n",
    "words_in_lotr_quote"
   ]
  },
  {
   "cell_type": "code",
   "execution_count": 34,
   "id": "9e90132f",
   "metadata": {},
   "outputs": [
    {
     "data": {
      "text/plain": [
       "[('It', 'PRP'),\n",
       " (\"'s\", 'VBZ'),\n",
       " ('a', 'DT'),\n",
       " ('dangerous', 'JJ'),\n",
       " ('business', 'NN'),\n",
       " (',', ','),\n",
       " ('Frodo', 'NNP'),\n",
       " (',', ','),\n",
       " ('going', 'VBG'),\n",
       " ('out', 'RP'),\n",
       " ('your', 'PRP$'),\n",
       " ('door', 'NN'),\n",
       " ('.', '.')]"
      ]
     },
     "execution_count": 34,
     "metadata": {},
     "output_type": "execute_result"
    }
   ],
   "source": [
    "lotr_pos_tags = nltk.pos_tag(words_in_lotr_quote)\n",
    "lotr_pos_tags"
   ]
  },
  {
   "cell_type": "code",
   "execution_count": 35,
   "id": "0d7d3a43",
   "metadata": {},
   "outputs": [],
   "source": [
    "grammar = \"NP: {<DT>?<JJ>*<NN>}\""
   ]
  },
  {
   "cell_type": "code",
   "execution_count": 36,
   "id": "17a9fad1",
   "metadata": {},
   "outputs": [],
   "source": [
    "chunk_parser = nltk.RegexpParser(grammar)"
   ]
  },
  {
   "cell_type": "code",
   "execution_count": 37,
   "id": "8dfb939b",
   "metadata": {},
   "outputs": [],
   "source": [
    "tree = chunk_parser.parse(lotr_pos_tags)"
   ]
  },
  {
   "cell_type": "code",
   "execution_count": 38,
   "id": "eb554491",
   "metadata": {},
   "outputs": [],
   "source": [
    "tree.draw()"
   ]
  },
  {
   "attachments": {
    "tree1.png": {
     "image/png": "[encoded data removed]"
    }
   },
   "cell_type": "markdown",
   "id": "d18a2001",
   "metadata": {},
   "source": [
    "![tree1.png](attachment:tree1.png)"
   ]
  },
  {
   "cell_type": "markdown",
   "id": "337c76af",
   "metadata": {},
   "source": [
    "## Chinking"
   ]
  },
  {
   "cell_type": "code",
   "execution_count": 39,
   "id": "16b6ad0b",
   "metadata": {},
   "outputs": [
    {
     "data": {
      "text/plain": [
       "[('It', 'PRP'),\n",
       " (\"'s\", 'VBZ'),\n",
       " ('a', 'DT'),\n",
       " ('dangerous', 'JJ'),\n",
       " ('business', 'NN'),\n",
       " (',', ','),\n",
       " ('Frodo', 'NNP'),\n",
       " (',', ','),\n",
       " ('going', 'VBG'),\n",
       " ('out', 'RP'),\n",
       " ('your', 'PRP$'),\n",
       " ('door', 'NN'),\n",
       " ('.', '.')]"
      ]
     },
     "execution_count": 39,
     "metadata": {},
     "output_type": "execute_result"
    }
   ],
   "source": [
    "lotr_pos_tags"
   ]
  },
  {
   "cell_type": "code",
   "execution_count": 40,
   "id": "12f4da7f",
   "metadata": {},
   "outputs": [],
   "source": [
    "grammar = \"\"\"\n",
    "Chunk: {<.*>+}\n",
    "       }<JJ>{\"\"\""
   ]
  },
  {
   "cell_type": "code",
   "execution_count": 41,
   "id": "4565455f",
   "metadata": {},
   "outputs": [],
   "source": [
    "chunk_parser = nltk.RegexpParser(grammar)"
   ]
  },
  {
   "cell_type": "code",
   "execution_count": 42,
   "id": "0938f110",
   "metadata": {},
   "outputs": [],
   "source": [
    "tree = chunk_parser.parse(lotr_pos_tags)"
   ]
  },
  {
   "cell_type": "code",
   "execution_count": 43,
   "id": "9cc7b1b0",
   "metadata": {},
   "outputs": [],
   "source": [
    "tree.draw()"
   ]
  },
  {
   "attachments": {
    "tree2.png": {
     "image/png": "[encoded data removed]"
    }
   },
   "cell_type": "markdown",
   "id": "97648fd0",
   "metadata": {},
   "source": [
    "![tree2.png](attachment:tree2.png)"
   ]
  },
  {
   "cell_type": "markdown",
   "id": "5461f17d",
   "metadata": {},
   "source": [
    "## Using Named Entity Recognistion (NER)"
   ]
  },
  {
   "cell_type": "code",
   "execution_count": 44,
   "id": "ab9f55a9",
   "metadata": {},
   "outputs": [
    {
     "name": "stderr",
     "output_type": "stream",
     "text": [
      "[nltk_data] Downloading package maxent_ne_chunker to\n",
      "[nltk_data]     C:\\Users\\clivinjohn.geju\\AppData\\Roaming\\nltk_data...\n",
      "[nltk_data]   Package maxent_ne_chunker is already up-to-date!\n",
      "[nltk_data] Downloading package words to\n",
      "[nltk_data]     C:\\Users\\clivinjohn.geju\\AppData\\Roaming\\nltk_data...\n",
      "[nltk_data]   Package words is already up-to-date!\n"
     ]
    }
   ],
   "source": [
    "nltk.download(\"maxent_ne_chunker\")\n",
    "nltk.download(\"words\")\n",
    "tree = nltk.ne_chunk(lotr_pos_tags)"
   ]
  },
  {
   "cell_type": "code",
   "execution_count": 45,
   "id": "b1f3ec1f",
   "metadata": {},
   "outputs": [],
   "source": [
    "tree.draw()"
   ]
  },
  {
   "attachments": {
    "tree3.png": {
     "image/png": "[encoded data removed]"
    }
   },
   "cell_type": "markdown",
   "id": "7432c384",
   "metadata": {},
   "source": [
    "![tree3.png](attachment:tree3.png)"
   ]
  },
  {
   "cell_type": "code",
   "execution_count": 46,
   "id": "316631a2",
   "metadata": {},
   "outputs": [],
   "source": [
    "tree = nltk.ne_chunk(lotr_pos_tags, binary=True)\n",
    "tree.draw()"
   ]
  },
  {
   "attachments": {
    "tree4.png": {
     "image/png": "[encoded data removed]"
    }
   },
   "cell_type": "markdown",
   "id": "0d23febf",
   "metadata": {},
   "source": [
    "![tree4.png](attachment:tree4.png)"
   ]
  },
  {
   "cell_type": "code",
   "execution_count": 47,
   "id": "fa669650",
   "metadata": {},
   "outputs": [],
   "source": [
    "quote = \"\"\"Men like Schiaparelli watched the red planet—it is odd, by-the-bye, that for countless centuries Mars has been the \n",
    "star of war—but failed to interpret the fluctuating appearances of the markings they mapped so well. All that time the Martians \n",
    "must have been getting ready. During the opposition of 1894 a great light was seen on the illuminated part of the disk, first \n",
    "at the Lick Observatory, then by Perrotin of Nice, and then by other observers. English readers heard of it first in the issue \n",
    "of Nature dated August 2.\"\"\""
   ]
  },
  {
   "cell_type": "code",
   "execution_count": 48,
   "id": "8886fb32",
   "metadata": {},
   "outputs": [],
   "source": [
    "def extract_ne(quote):\n",
    "    words = word_tokenize(quote)\n",
    "    tags = nltk.pos_tag(words)\n",
    "    tree = nltk.ne_chunk(tags, binary = True)\n",
    "    return set(\n",
    "    \" \".join(i[0] for i in t)\n",
    "    for t in tree\n",
    "    if hasattr(t, \"label\") and t.label() == \"NE\"\n",
    "    )"
   ]
  },
  {
   "cell_type": "code",
   "execution_count": 49,
   "id": "8d8d58bb",
   "metadata": {},
   "outputs": [
    {
     "data": {
      "text/plain": [
       "{'Lick Observatory', 'Mars', 'Nature', 'Perrotin', 'Schiaparelli'}"
      ]
     },
     "execution_count": 49,
     "metadata": {},
     "output_type": "execute_result"
    }
   ],
   "source": [
    "extract_ne(quote)"
   ]
  },
  {
   "cell_type": "markdown",
   "id": "964da4de",
   "metadata": {},
   "source": [
    "## Getting Text to Analyze"
   ]
  },
  {
   "cell_type": "code",
   "execution_count": 50,
   "id": "b295d778",
   "metadata": {},
   "outputs": [
    {
     "name": "stderr",
     "output_type": "stream",
     "text": [
      "[nltk_data] Downloading collection 'book'\n",
      "[nltk_data]    | \n",
      "[nltk_data]    | Downloading package abc to\n",
      "[nltk_data]    |     C:\\Users\\clivinjohn.geju\\AppData\\Roaming\\nltk_dat\n",
      "[nltk_data]    |     a...\n",
      "[nltk_data]    |   Package abc is already up-to-date!\n",
      "[nltk_data]    | Downloading package brown to\n",
      "[nltk_data]    |     C:\\Users\\clivinjohn.geju\\AppData\\Roaming\\nltk_dat\n",
      "[nltk_data]    |     a...\n",
      "[nltk_data]    |   Package brown is already up-to-date!\n",
      "[nltk_data]    | Downloading package chat80 to\n",
      "[nltk_data]    |     C:\\Users\\clivinjohn.geju\\AppData\\Roaming\\nltk_dat\n",
      "[nltk_data]    |     a...\n",
      "[nltk_data]    |   Package chat80 is already up-to-date!\n",
      "[nltk_data]    | Downloading package cmudict to\n",
      "[nltk_data]    |     C:\\Users\\clivinjohn.geju\\AppData\\Roaming\\nltk_dat\n",
      "[nltk_data]    |     a...\n",
      "[nltk_data]    |   Package cmudict is already up-to-date!\n",
      "[nltk_data]    | Downloading package conll2000 to\n",
      "[nltk_data]    |     C:\\Users\\clivinjohn.geju\\AppData\\Roaming\\nltk_dat\n",
      "[nltk_data]    |     a...\n",
      "[nltk_data]    |   Package conll2000 is already up-to-date!\n",
      "[nltk_data]    | Downloading package conll2002 to\n",
      "[nltk_data]    |     C:\\Users\\clivinjohn.geju\\AppData\\Roaming\\nltk_dat\n",
      "[nltk_data]    |     a...\n",
      "[nltk_data]    |   Package conll2002 is already up-to-date!\n",
      "[nltk_data]    | Downloading package dependency_treebank to\n",
      "[nltk_data]    |     C:\\Users\\clivinjohn.geju\\AppData\\Roaming\\nltk_dat\n",
      "[nltk_data]    |     a...\n",
      "[nltk_data]    |   Package dependency_treebank is already up-to-date!\n",
      "[nltk_data]    | Downloading package genesis to\n",
      "[nltk_data]    |     C:\\Users\\clivinjohn.geju\\AppData\\Roaming\\nltk_dat\n",
      "[nltk_data]    |     a...\n",
      "[nltk_data]    |   Package genesis is already up-to-date!\n",
      "[nltk_data]    | Downloading package gutenberg to\n",
      "[nltk_data]    |     C:\\Users\\clivinjohn.geju\\AppData\\Roaming\\nltk_dat\n",
      "[nltk_data]    |     a...\n",
      "[nltk_data]    |   Package gutenberg is already up-to-date!\n",
      "[nltk_data]    | Downloading package ieer to\n",
      "[nltk_data]    |     C:\\Users\\clivinjohn.geju\\AppData\\Roaming\\nltk_dat\n",
      "[nltk_data]    |     a...\n",
      "[nltk_data]    |   Package ieer is already up-to-date!\n",
      "[nltk_data]    | Downloading package inaugural to\n",
      "[nltk_data]    |     C:\\Users\\clivinjohn.geju\\AppData\\Roaming\\nltk_dat\n",
      "[nltk_data]    |     a...\n",
      "[nltk_data]    |   Package inaugural is already up-to-date!\n",
      "[nltk_data]    | Downloading package movie_reviews to\n",
      "[nltk_data]    |     C:\\Users\\clivinjohn.geju\\AppData\\Roaming\\nltk_dat\n",
      "[nltk_data]    |     a...\n",
      "[nltk_data]    |   Package movie_reviews is already up-to-date!\n",
      "[nltk_data]    | Downloading package nps_chat to\n",
      "[nltk_data]    |     C:\\Users\\clivinjohn.geju\\AppData\\Roaming\\nltk_dat\n",
      "[nltk_data]    |     a...\n",
      "[nltk_data]    |   Package nps_chat is already up-to-date!\n",
      "[nltk_data]    | Downloading package names to\n",
      "[nltk_data]    |     C:\\Users\\clivinjohn.geju\\AppData\\Roaming\\nltk_dat\n",
      "[nltk_data]    |     a...\n",
      "[nltk_data]    |   Package names is already up-to-date!\n",
      "[nltk_data]    | Downloading package ppattach to\n",
      "[nltk_data]    |     C:\\Users\\clivinjohn.geju\\AppData\\Roaming\\nltk_dat\n",
      "[nltk_data]    |     a...\n",
      "[nltk_data]    |   Package ppattach is already up-to-date!\n",
      "[nltk_data]    | Downloading package reuters to\n",
      "[nltk_data]    |     C:\\Users\\clivinjohn.geju\\AppData\\Roaming\\nltk_dat\n",
      "[nltk_data]    |     a...\n",
      "[nltk_data]    |   Package reuters is already up-to-date!\n",
      "[nltk_data]    | Downloading package senseval to\n",
      "[nltk_data]    |     C:\\Users\\clivinjohn.geju\\AppData\\Roaming\\nltk_dat\n",
      "[nltk_data]    |     a...\n",
      "[nltk_data]    |   Package senseval is already up-to-date!\n",
      "[nltk_data]    | Downloading package state_union to\n",
      "[nltk_data]    |     C:\\Users\\clivinjohn.geju\\AppData\\Roaming\\nltk_dat\n",
      "[nltk_data]    |     a...\n",
      "[nltk_data]    |   Package state_union is already up-to-date!\n",
      "[nltk_data]    | Downloading package stopwords to\n",
      "[nltk_data]    |     C:\\Users\\clivinjohn.geju\\AppData\\Roaming\\nltk_dat\n",
      "[nltk_data]    |     a...\n",
      "[nltk_data]    |   Package stopwords is already up-to-date!\n",
      "[nltk_data]    | Downloading package swadesh to\n",
      "[nltk_data]    |     C:\\Users\\clivinjohn.geju\\AppData\\Roaming\\nltk_dat\n",
      "[nltk_data]    |     a...\n",
      "[nltk_data]    |   Package swadesh is already up-to-date!\n",
      "[nltk_data]    | Downloading package timit to\n",
      "[nltk_data]    |     C:\\Users\\clivinjohn.geju\\AppData\\Roaming\\nltk_dat\n",
      "[nltk_data]    |     a...\n",
      "[nltk_data]    |   Package timit is already up-to-date!\n",
      "[nltk_data]    | Downloading package treebank to\n",
      "[nltk_data]    |     C:\\Users\\clivinjohn.geju\\AppData\\Roaming\\nltk_dat\n",
      "[nltk_data]    |     a...\n",
      "[nltk_data]    |   Package treebank is already up-to-date!\n",
      "[nltk_data]    | Downloading package toolbox to\n",
      "[nltk_data]    |     C:\\Users\\clivinjohn.geju\\AppData\\Roaming\\nltk_dat\n",
      "[nltk_data]    |     a...\n",
      "[nltk_data]    |   Package toolbox is already up-to-date!\n",
      "[nltk_data]    | Downloading package udhr to\n",
      "[nltk_data]    |     C:\\Users\\clivinjohn.geju\\AppData\\Roaming\\nltk_dat\n",
      "[nltk_data]    |     a...\n",
      "[nltk_data]    |   Package udhr is already up-to-date!\n",
      "[nltk_data]    | Downloading package udhr2 to\n",
      "[nltk_data]    |     C:\\Users\\clivinjohn.geju\\AppData\\Roaming\\nltk_dat\n",
      "[nltk_data]    |     a...\n",
      "[nltk_data]    |   Package udhr2 is already up-to-date!\n",
      "[nltk_data]    | Downloading package unicode_samples to\n",
      "[nltk_data]    |     C:\\Users\\clivinjohn.geju\\AppData\\Roaming\\nltk_dat\n",
      "[nltk_data]    |     a...\n",
      "[nltk_data]    |   Package unicode_samples is already up-to-date!\n",
      "[nltk_data]    | Downloading package webtext to\n",
      "[nltk_data]    |     C:\\Users\\clivinjohn.geju\\AppData\\Roaming\\nltk_dat\n",
      "[nltk_data]    |     a...\n",
      "[nltk_data]    |   Package webtext is already up-to-date!\n",
      "[nltk_data]    | Downloading package wordnet to\n",
      "[nltk_data]    |     C:\\Users\\clivinjohn.geju\\AppData\\Roaming\\nltk_dat\n",
      "[nltk_data]    |     a...\n",
      "[nltk_data]    |   Package wordnet is already up-to-date!\n",
      "[nltk_data]    | Downloading package wordnet_ic to\n",
      "[nltk_data]    |     C:\\Users\\clivinjohn.geju\\AppData\\Roaming\\nltk_dat\n",
      "[nltk_data]    |     a...\n",
      "[nltk_data]    |   Package wordnet_ic is already up-to-date!\n",
      "[nltk_data]    | Downloading package words to\n",
      "[nltk_data]    |     C:\\Users\\clivinjohn.geju\\AppData\\Roaming\\nltk_dat\n",
      "[nltk_data]    |     a...\n",
      "[nltk_data]    |   Package words is already up-to-date!\n",
      "[nltk_data]    | Downloading package maxent_treebank_pos_tagger to\n",
      "[nltk_data]    |     C:\\Users\\clivinjohn.geju\\AppData\\Roaming\\nltk_dat\n",
      "[nltk_data]    |     a...\n",
      "[nltk_data]    |   Package maxent_treebank_pos_tagger is already up-\n",
      "[nltk_data]    |       to-date!\n",
      "[nltk_data]    | Downloading package maxent_ne_chunker to\n",
      "[nltk_data]    |     C:\\Users\\clivinjohn.geju\\AppData\\Roaming\\nltk_dat\n",
      "[nltk_data]    |     a...\n",
      "[nltk_data]    |   Package maxent_ne_chunker is already up-to-date!\n",
      "[nltk_data]    | Downloading package universal_tagset to\n",
      "[nltk_data]    |     C:\\Users\\clivinjohn.geju\\AppData\\Roaming\\nltk_dat\n",
      "[nltk_data]    |     a...\n",
      "[nltk_data]    |   Package universal_tagset is already up-to-date!\n",
      "[nltk_data]    | Downloading package punkt to\n",
      "[nltk_data]    |     C:\\Users\\clivinjohn.geju\\AppData\\Roaming\\nltk_dat\n",
      "[nltk_data]    |     a...\n",
      "[nltk_data]    |   Package punkt is already up-to-date!\n",
      "[nltk_data]    | Downloading package book_grammars to\n",
      "[nltk_data]    |     C:\\Users\\clivinjohn.geju\\AppData\\Roaming\\nltk_dat\n",
      "[nltk_data]    |     a...\n",
      "[nltk_data]    |   Package book_grammars is already up-to-date!\n",
      "[nltk_data]    | Downloading package city_database to\n",
      "[nltk_data]    |     C:\\Users\\clivinjohn.geju\\AppData\\Roaming\\nltk_dat\n",
      "[nltk_data]    |     a...\n",
      "[nltk_data]    |   Package city_database is already up-to-date!\n",
      "[nltk_data]    | Downloading package tagsets to\n",
      "[nltk_data]    |     C:\\Users\\clivinjohn.geju\\AppData\\Roaming\\nltk_dat\n",
      "[nltk_data]    |     a...\n",
      "[nltk_data]    |   Package tagsets is already up-to-date!\n",
      "[nltk_data]    | Downloading package panlex_swadesh to\n",
      "[nltk_data]    |     C:\\Users\\clivinjohn.geju\\AppData\\Roaming\\nltk_dat\n",
      "[nltk_data]    |     a...\n",
      "[nltk_data]    |   Package panlex_swadesh is already up-to-date!\n",
      "[nltk_data]    | Downloading package averaged_perceptron_tagger to\n",
      "[nltk_data]    |     C:\\Users\\clivinjohn.geju\\AppData\\Roaming\\nltk_dat\n",
      "[nltk_data]    |     a...\n",
      "[nltk_data]    |   Package averaged_perceptron_tagger is already up-\n",
      "[nltk_data]    |       to-date!\n",
      "[nltk_data]    | \n",
      "[nltk_data]  Done downloading collection book\n"
     ]
    },
    {
     "name": "stdout",
     "output_type": "stream",
     "text": [
      "*** Introductory Examples for the NLTK Book ***\n",
      "Loading text1, ..., text9 and sent1, ..., sent9\n",
      "Type the name of the text or sentence to view it.\n",
      "Type: 'texts()' or 'sents()' to list the materials.\n",
      "text1: Moby Dick by Herman Melville 1851\n",
      "text2: Sense and Sensibility by Jane Austen 1811\n",
      "text3: The Book of Genesis\n",
      "text4: Inaugural Address Corpus\n",
      "text5: Chat Corpus\n",
      "text6: Monty Python and the Holy Grail\n",
      "text7: Wall Street Journal\n",
      "text8: Personals Corpus\n",
      "text9: The Man Who Was Thursday by G . K . Chesterton 1908\n"
     ]
    }
   ],
   "source": [
    "nltk.download(\"book\")\n",
    "from nltk.book import *"
   ]
  },
  {
   "cell_type": "markdown",
   "id": "768d8263",
   "metadata": {},
   "source": [
    "## Using a concordance"
   ]
  },
  {
   "cell_type": "code",
   "execution_count": 51,
   "id": "9a0b1beb",
   "metadata": {},
   "outputs": [
    {
     "name": "stdout",
     "output_type": "stream",
     "text": [
      "Displaying 14 of 14 matches:\n",
      " to hearing from you all . ABLE young man seeks , sexy older women . Phone for \n",
      "ble relationship . GENUINE ATTRACTIVE MAN 40 y . o ., no ties , secure , 5 ft .\n",
      "ship , and quality times . VIETNAMESE MAN Single , never married , financially \n",
      "ip . WELL DRESSED emotionally healthy man 37 like to meet full figured woman fo\n",
      " nth subs LIKE TO BE MISTRESS of YOUR MAN like to be treated well . Bold DTE no\n",
      "eeks lady in similar position MARRIED MAN 50 , attrac . fit , seeks lady 40 - 5\n",
      "eks nice girl 25 - 30 serious rship . Man 46 attractive fit , assertive , and k\n",
      " 40 - 50 sought by Aussie mid 40s b / man f / ship r / ship LOVE to meet widowe\n",
      "discreet times . Sth E Subs . MARRIED MAN 42yo 6ft , fit , seeks Lady for discr\n",
      "woman , seeks professional , employed man , with interests in theatre , dining \n",
      " tall and of large build seeks a good man . I am a nonsmoker , social drinker ,\n",
      "lead to relationship . SEEKING HONEST MAN I am 41 y . o ., 5 ft . 4 , med . bui\n",
      " quiet times . Seeks 35 - 45 , honest man with good SOH & similar interests , f\n",
      " genuine , caring , honest and normal man for fship , poss rship . S / S , S / \n"
     ]
    }
   ],
   "source": [
    "text8.concordance(\"man\")"
   ]
  },
  {
   "cell_type": "code",
   "execution_count": 52,
   "id": "9dc133c1",
   "metadata": {},
   "outputs": [
    {
     "name": "stdout",
     "output_type": "stream",
     "text": [
      "Displaying 11 of 11 matches:\n",
      "at home . Seeking an honest , caring woman , slim or med . build , who enjoys t\n",
      "thy man 37 like to meet full figured woman for relationship . 48 slim , shy , S\n",
      "rry . MALE 58 years old . Is there a Woman who would like to spend 1 weekend a \n",
      " other interests . Seeking Christian Woman for fship , view to rship . SWM 45 D\n",
      "ALE 60 - burly beared seeks intimate woman for outings n / s s / d F / ston / P\n",
      "ington . SCORPIO 47 seeks passionate woman for discreet intimate encounters SEX\n",
      "le dad . 42 , East sub . 5 \" 9 seeks woman 30 + for f / ship relationship TALL \n",
      "personal trainer looking for married woman age open for fun MARRIED Dark guy 37\n",
      "rinker , seeking slim - medium build woman who is happy in life , age open . AC\n",
      ". O . TERTIARY Educated professional woman , seeks professional , employed man \n",
      " real romantic , age 50 - 65 y . o . WOMAN OF SUBSTANCE 56 , 59 kg ., 50 , fit \n"
     ]
    }
   ],
   "source": [
    "text8.concordance(\"woman\")"
   ]
  },
  {
   "cell_type": "markdown",
   "id": "d6db9203",
   "metadata": {},
   "source": [
    "## Making a Dispersion Plot"
   ]
  },
  {
   "cell_type": "code",
   "execution_count": 53,
   "id": "37723562",
   "metadata": {},
   "outputs": [
    {
     "data": {
      "image/png": "[encoded data removed]",
      "text/plain": [
       "<Figure size 640x480 with 1 Axes>"
      ]
     },
     "metadata": {},
     "output_type": "display_data"
    }
   ],
   "source": [
    "text8.dispersion_plot(\n",
    "[\"woman\", \"lady\", \"girl\", \"gal\", \"man\", \"gentleman\", \"boy\", \"guy\"]\n",
    ")"
   ]
  },
  {
   "cell_type": "code",
   "execution_count": 54,
   "id": "304398c9",
   "metadata": {},
   "outputs": [
    {
     "data": {
      "image/png": "[encoded data removed]",
      "text/plain": [
       "<Figure size 640x480 with 1 Axes>"
      ]
     },
     "metadata": {},
     "output_type": "display_data"
    }
   ],
   "source": [
    "text2.dispersion_plot([\"Allenham\", \"Whitwell\", \"Cleveland\", \"Combe\"])"
   ]
  },
  {
   "cell_type": "markdown",
   "id": "ac3fd2d0",
   "metadata": {},
   "source": [
    "## Making a Frequency Distribution"
   ]
  },
  {
   "cell_type": "code",
   "execution_count": 55,
   "id": "a06398a8",
   "metadata": {},
   "outputs": [],
   "source": [
    "from nltk import FreqDist"
   ]
  },
  {
   "cell_type": "code",
   "execution_count": 56,
   "id": "9801b2fb",
   "metadata": {},
   "outputs": [
    {
     "name": "stdout",
     "output_type": "stream",
     "text": [
      "<FreqDist with 1108 samples and 4867 outcomes>\n"
     ]
    }
   ],
   "source": [
    "frequency_distribution = FreqDist(text8)\n",
    "print(frequency_distribution)"
   ]
  },
  {
   "cell_type": "code",
   "execution_count": 57,
   "id": "17a68c5c",
   "metadata": {},
   "outputs": [
    {
     "data": {
      "text/plain": [
       "[(',', 539),\n",
       " ('.', 353),\n",
       " ('/', 110),\n",
       " ('for', 99),\n",
       " ('and', 74),\n",
       " ('to', 74),\n",
       " ('lady', 68),\n",
       " ('-', 66),\n",
       " ('seeks', 60),\n",
       " ('a', 52),\n",
       " ('with', 44),\n",
       " ('S', 36),\n",
       " ('ship', 33),\n",
       " ('&', 30),\n",
       " ('relationship', 29),\n",
       " ('fun', 28),\n",
       " ('in', 27),\n",
       " ('slim', 27),\n",
       " ('build', 27),\n",
       " ('o', 26)]"
      ]
     },
     "execution_count": 57,
     "metadata": {},
     "output_type": "execute_result"
    }
   ],
   "source": [
    "frequency_distribution.most_common(20)"
   ]
  },
  {
   "cell_type": "code",
   "execution_count": 58,
   "id": "000573c9",
   "metadata": {},
   "outputs": [],
   "source": [
    "meaningful_words = [\n",
    "    word for word in text8 if word.casefold() not in stop_words\n",
    "]"
   ]
  },
  {
   "cell_type": "code",
   "execution_count": 59,
   "id": "8dd2d7ac",
   "metadata": {},
   "outputs": [],
   "source": [
    "frequency_distribution = FreqDist(meaningful_words)"
   ]
  },
  {
   "cell_type": "code",
   "execution_count": 60,
   "id": "54789e13",
   "metadata": {},
   "outputs": [
    {
     "data": {
      "text/plain": [
       "[(',', 539),\n",
       " ('.', 353),\n",
       " ('/', 110),\n",
       " ('lady', 68),\n",
       " ('-', 66),\n",
       " ('seeks', 60),\n",
       " ('ship', 33),\n",
       " ('&', 30),\n",
       " ('relationship', 29),\n",
       " ('fun', 28),\n",
       " ('slim', 27),\n",
       " ('build', 27),\n",
       " ('smoker', 23),\n",
       " ('50', 23),\n",
       " ('non', 22),\n",
       " ('movies', 22),\n",
       " ('good', 21),\n",
       " ('honest', 20),\n",
       " ('dining', 19),\n",
       " ('rship', 18)]"
      ]
     },
     "execution_count": 60,
     "metadata": {},
     "output_type": "execute_result"
    }
   ],
   "source": [
    "frequency_distribution.most_common(20)"
   ]
  },
  {
   "cell_type": "code",
   "execution_count": 61,
   "id": "2734168a",
   "metadata": {},
   "outputs": [
    {
     "data": {
      "image/png": "[encoded data removed]",
      "text/plain": [
       "<Figure size 640x480 with 1 Axes>"
      ]
     },
     "metadata": {},
     "output_type": "display_data"
    },
    {
     "data": {
      "text/plain": [
       "<AxesSubplot:xlabel='Samples', ylabel='Cumulative Counts'>"
      ]
     },
     "execution_count": 61,
     "metadata": {},
     "output_type": "execute_result"
    }
   ],
   "source": [
    "frequency_distribution.plot(20, cumulative=True)"
   ]
  },
  {
   "cell_type": "markdown",
   "id": "07188a6c",
   "metadata": {},
   "source": [
    "## Finding Collocations"
   ]
  },
  {
   "cell_type": "code",
   "execution_count": 62,
   "id": "8f55bc59",
   "metadata": {},
   "outputs": [
    {
     "name": "stdout",
     "output_type": "stream",
     "text": [
      "would like; medium build; social drinker; quiet nights; non smoker;\n",
      "long term; age open; Would like; easy going; financially secure; fun\n",
      "times; similar interests; Age open; weekends away; poss rship; well\n",
      "presented; never married; single mum; permanent relationship; slim\n",
      "build\n"
     ]
    }
   ],
   "source": [
    "text8.collocations()"
   ]
  },
  {
   "cell_type": "code",
   "execution_count": 63,
   "id": "9059cca2",
   "metadata": {},
   "outputs": [],
   "source": [
    "lemmatized_words = [lemmatizer.lemmatize(word) for word in text8]"
   ]
  },
  {
   "cell_type": "code",
   "execution_count": 64,
   "id": "32d5a28b",
   "metadata": {},
   "outputs": [],
   "source": [
    "new_text = nltk.Text(lemmatized_words)"
   ]
  },
  {
   "cell_type": "code",
   "execution_count": 65,
   "id": "64816eb5",
   "metadata": {},
   "outputs": [
    {
     "name": "stdout",
     "output_type": "stream",
     "text": [
      "medium build; social drinker; non smoker; quiet night; long term;\n",
      "would like; age open; easy going; financially secure; Would like; fun\n",
      "time; similar interest; Age open; weekend away; well presented; never\n",
      "married; single mum; permanent relationship; year old; slim build\n"
     ]
    }
   ],
   "source": [
    "new_text.collocations()"
   ]
  }
 ],
 "metadata": {
  "kernelspec": {
   "display_name": "Python 3 (ipykernel)",
   "language": "python",
   "name": "python3"
  },
  "language_info": {
   "codemirror_mode": {
    "name": "ipython",
    "version": 3
   },
   "file_extension": ".py",
   "mimetype": "text/x-python",
   "name": "python",
   "nbconvert_exporter": "python",
   "pygments_lexer": "ipython3",
   "version": "3.9.12"
  }
 },
 "nbformat": 4,
 "nbformat_minor": 5
}
