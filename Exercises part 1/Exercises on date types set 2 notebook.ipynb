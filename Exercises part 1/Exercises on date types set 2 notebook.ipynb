{
 "cells": [
  {
   "cell_type": "markdown",
   "id": "bb750a2e",
   "metadata": {},
   "source": [
    "# Problem 1\n",
    "### Compute the Mean & Median score of the following sample of ten students from score string : score='1.90 3.00 2.53 3.71 2.12 1.76 2.71 1.39 4.00 3.33'"
   ]
  },
  {
   "cell_type": "code",
   "execution_count": 1,
   "id": "a085f5ba",
   "metadata": {},
   "outputs": [
    {
     "name": "stdout",
     "output_type": "stream",
     "text": [
      "Enter numbers with spacing: 1.90 3.00 2.53 3.71 2.12 1.76 2.71 1.39 4.00 3.33\n",
      "2.6450000000000005\n",
      "2.62\n",
      "1.9\n"
     ]
    }
   ],
   "source": [
    "import numpy\n",
    "\n",
    "user_input = input('Enter numbers with spacing: ')\n",
    "num_list = user_input.split()\n",
    "\n",
    "# Convert list values to decimal form\n",
    "for i in range(len(num_list)):\n",
    "    num_list[i] = float(num_list[i])\n",
    "    \n",
    "print(numpy.mean(num_list))\n",
    "print(numpy.median(num_list))\n",
    "print(max(set(num_list), key = num_list.count))"
   ]
  },
  {
   "cell_type": "markdown",
   "id": "af95b0fc",
   "metadata": {},
   "source": [
    "# Problem 2\n",
    "### a) Write a Python script to check a list is empty or not \n",
    "### b) Write a Python program to clone or copy a list. "
   ]
  },
  {
   "cell_type": "code",
   "execution_count": 2,
   "id": "ef249631",
   "metadata": {},
   "outputs": [
    {
     "name": "stdout",
     "output_type": "stream",
     "text": [
      "List a is empty\n",
      "List b is not empty\n",
      "[1, 2, 3, 4, 5, 6, 7, 8, 9, 0]\n"
     ]
    }
   ],
   "source": [
    "list_a = []\n",
    "list_b = [1,2,3,4,5,6,7,8,9,0]\n",
    "\n",
    "# part a: checking if list is empty\n",
    "if(len(list_a) == 0):\n",
    "    print('List a is empty')\n",
    "else:\n",
    "    print('List a is not empty')\n",
    "if(len(list_b) == 0):\n",
    "    print('List b is empty')\n",
    "else:\n",
    "    print('List b is not empty')\n",
    "    \n",
    "# part b: clone/copy a list\n",
    "list_a.extend(list_b)\n",
    "print(list_a)"
   ]
  },
  {
   "cell_type": "markdown",
   "id": "d233b1b7",
   "metadata": {},
   "source": [
    "# Problem 3\n",
    "### Print all elements of a list excluding the first and last element. Don't index the elements directly. Use slicing operation instead."
   ]
  },
  {
   "cell_type": "code",
   "execution_count": 3,
   "id": "7c9c7682",
   "metadata": {},
   "outputs": [
    {
     "name": "stdout",
     "output_type": "stream",
     "text": [
      "[2, 3, 4, 5, 6, 7, 8, 9]\n"
     ]
    }
   ],
   "source": [
    "list_b = [1,2,3,4,5,6,7,8,9,0]\n",
    "print(list_b[1:9])"
   ]
  }
 ],
 "metadata": {
  "kernelspec": {
   "display_name": "Python 3 (ipykernel)",
   "language": "python",
   "name": "python3"
  },
  "language_info": {
   "codemirror_mode": {
    "name": "ipython",
    "version": 3
   },
   "file_extension": ".py",
   "mimetype": "text/x-python",
   "name": "python",
   "nbconvert_exporter": "python",
   "pygments_lexer": "ipython3",
   "version": "3.9.12"
  }
 },
 "nbformat": 4,
 "nbformat_minor": 5
}
