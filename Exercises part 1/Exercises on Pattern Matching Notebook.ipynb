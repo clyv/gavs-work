{
 "cells": [
  {
   "cell_type": "markdown",
   "id": "e808018d",
   "metadata": {},
   "source": [
    "## Exercise 1 - on pattern matching module"
   ]
  },
  {
   "cell_type": "markdown",
   "id": "ead1a65f",
   "metadata": {},
   "source": [
    "### a. Write a Python script that matches a string that has the letter 'a' followed by zero or more b's"
   ]
  },
  {
   "cell_type": "code",
   "execution_count": 1,
   "id": "cbcada99",
   "metadata": {},
   "outputs": [
    {
     "name": "stdout",
     "output_type": "stream",
     "text": [
      "No match\n",
      "No match\n",
      "Found a match\n",
      "Found a match\n",
      "Found a match\n"
     ]
    }
   ],
   "source": [
    "import re\n",
    "\n",
    "def match_abs(string):\n",
    "    pattern = '^a(b*)$'\n",
    "    if re.search(pattern, string):\n",
    "        return 'Found a match'\n",
    "    else:\n",
    "        return 'No match'\n",
    "        \n",
    "print(match_abs(\"ac\"))\n",
    "print(match_abs(\"abc\"))\n",
    "print(match_abs(\"a\"))\n",
    "print(match_abs(\"ab\"))\n",
    "print(match_abs(\"abb\"))"
   ]
  },
  {
   "cell_type": "markdown",
   "id": "dd3585d7",
   "metadata": {},
   "source": [
    "### b. Write a Python script that matches a string that has the letter 'a; followed by three b's"
   ]
  },
  {
   "cell_type": "code",
   "execution_count": 2,
   "id": "aaab6cdb",
   "metadata": {},
   "outputs": [
    {
     "name": "stdout",
     "output_type": "stream",
     "text": [
      "No match\n",
      "No match\n",
      "No match\n",
      "No match\n",
      "Found a match\n"
     ]
    }
   ],
   "source": [
    "def match_abs(string):\n",
    "    pattern = 'ab{3}?'\n",
    "    if re.search(pattern, string):\n",
    "        return 'Found a match'\n",
    "    else:\n",
    "        return 'No match'\n",
    "        \n",
    "print(match_abs(\"ac\"))\n",
    "print(match_abs(\"abc\"))\n",
    "print(match_abs(\"a\"))\n",
    "print(match_abs(\"ab\"))\n",
    "print(match_abs(\"abbb\"))"
   ]
  },
  {
   "cell_type": "markdown",
   "id": "e8979e4e",
   "metadata": {},
   "source": [
    "### c. Write a Python script to find sequences of one upper case letter followed by lower case letter."
   ]
  },
  {
   "cell_type": "code",
   "execution_count": 3,
   "id": "f9eeace9",
   "metadata": {},
   "outputs": [
    {
     "name": "stdout",
     "output_type": "stream",
     "text": [
      "Found a match\n",
      "Found a match\n",
      "Not match\n",
      "Not match\n"
     ]
    }
   ],
   "source": [
    "def match_ul(string):\n",
    "        pattern = '[A-Z]+[a-z]+$'\n",
    "        if re.search(pattern, string):\n",
    "            return 'Found a match'\n",
    "        else:\n",
    "            return 'Not match'\n",
    "print(match_ul(\"AaBbCc\"))\n",
    "print(match_ul(\"Python\"))\n",
    "print(match_ul(\"python\"))\n",
    "print(match_ul(\"PYTHON\"))"
   ]
  },
  {
   "cell_type": "markdown",
   "id": "32749910",
   "metadata": {},
   "source": [
    "### d. Write a Python script that matches a word containing the letter 'z', not at start or end of word."
   ]
  },
  {
   "cell_type": "code",
   "execution_count": 4,
   "id": "1cf5ce9a",
   "metadata": {},
   "outputs": [
    {
     "name": "stdout",
     "output_type": "stream",
     "text": [
      "Found a match\n",
      "Not match\n"
     ]
    }
   ],
   "source": [
    "def match_z(string):\n",
    "        pattern = '\\Bz\\B'\n",
    "        if re.search(pattern,  string):\n",
    "                return 'Found a match'\n",
    "        else:\n",
    "                return 'Not match'\n",
    "\n",
    "print(match_z(\"The quick brown fox jumps over the lazy dog.\"))\n",
    "print(match_z(\"Python Exercises.\"))"
   ]
  },
  {
   "cell_type": "markdown",
   "id": "a21f236f",
   "metadata": {},
   "source": [
    "### e. Write a Python script to match a string that contains only upper and lowercase letters, numbers, and underscores."
   ]
  },
  {
   "cell_type": "code",
   "execution_count": 5,
   "id": "c3eaaaa1",
   "metadata": {},
   "outputs": [
    {
     "name": "stdout",
     "output_type": "stream",
     "text": [
      "Not match\n",
      "Found a match\n"
     ]
    }
   ],
   "source": [
    "def many_match(string):\n",
    "        pattern = '^[a-zA-Z0-9_]*$'\n",
    "        if re.search(pattern, string):\n",
    "                return 'Found a match'\n",
    "        else:\n",
    "                return 'Not match'\n",
    "\n",
    "print(many_match(\"The quick brown fox jumps over the lazy dog.\"))\n",
    "print(many_match(\"Python_Exercises_1\"))"
   ]
  },
  {
   "cell_type": "markdown",
   "id": "157be626",
   "metadata": {},
   "source": [
    "### f. Write a Python script to check for a number at the end of the string."
   ]
  },
  {
   "cell_type": "code",
   "execution_count": null,
   "id": "517e084a",
   "metadata": {},
   "outputs": [],
   "source": [
    "def match_num(string):\n",
    "    text = re.compile(r\".*[0-9]$\")\n",
    "    if text.match(string):\n",
    "        return True\n",
    "    else:\n",
    "        return False\n",
    "\n",
    "print(match_num('abcdef'))\n",
    "print(match_num('abcdef6'))"
   ]
  },
  {
   "cell_type": "markdown",
   "id": "3638fd55",
   "metadata": {},
   "source": [
    "### g. Write a Python program to find the substring within a string"
   ]
  },
  {
   "cell_type": "code",
   "execution_count": 6,
   "id": "52b374ed",
   "metadata": {},
   "outputs": [
    {
     "name": "stdout",
     "output_type": "stream",
     "text": [
      "There are 3 instances of exercises in the input string\n"
     ]
    }
   ],
   "source": [
    "text = 'Python exercises, PHP exercises, C# exercises'\n",
    "pattern = 'exercises'\n",
    "c = 0\n",
    "for match in re.findall(pattern, text):\n",
    "    c = c + 1\n",
    "print('There are', c, 'instances of', pattern, 'in the input string')"
   ]
  },
  {
   "cell_type": "markdown",
   "id": "75ab6557",
   "metadata": {},
   "source": [
    "### h. Write a Python script to remove all whitespaces from a string"
   ]
  },
  {
   "cell_type": "code",
   "execution_count": 7,
   "id": "42f18903",
   "metadata": {},
   "outputs": [
    {
     "name": "stdout",
     "output_type": "stream",
     "text": [
      "HelloWorldFromClivinHiThere\n"
     ]
    }
   ],
   "source": [
    "S = '  Hello  World   From Clivin \\t\\n\\r\\tHi There  '\n",
    "print(re.sub(r'\\s+', '',S))"
   ]
  },
  {
   "cell_type": "markdown",
   "id": "8388c2af",
   "metadata": {},
   "source": [
    "### i. Capture pattern groups using pattern.search(string).groups() method."
   ]
  },
  {
   "cell_type": "code",
   "execution_count": 8,
   "id": "22b1fcfd",
   "metadata": {},
   "outputs": [
    {
     "name": "stdout",
     "output_type": "stream",
     "text": [
      "('PINEAPPLE', '20')\n"
     ]
    }
   ],
   "source": [
    "target_str = \"The price of PINEAPPLE ice cream is 20\"\n",
    "res = re.search(r\"(\\b[A-Z]+\\b).+(\\b\\d+)\", target_str)\n",
    "print(res.groups())"
   ]
  },
  {
   "cell_type": "markdown",
   "id": "103ec5ba",
   "metadata": {},
   "source": [
    "## Exercise 2 - on functions and modules"
   ]
  },
  {
   "cell_type": "markdown",
   "id": "23dde574",
   "metadata": {},
   "source": [
    "### a. Write a Python script to convert a date of yyyy-mm-dd format to dd-mm-yyyy format."
   ]
  },
  {
   "cell_type": "code",
   "execution_count": null,
   "id": "f33ababb",
   "metadata": {},
   "outputs": [],
   "source": [
    "def date_form_chg(date):\n",
    "    return re.sub(r'(\\d{4})-(\\d{1,2})-(\\d{1,2})', '\\\\3-\\\\2-\\\\1', date)\n",
    "\n",
    "date = \"2022-08-23\"\n",
    "print(date)\n",
    "print(date_form_chg(date))"
   ]
  },
  {
   "cell_type": "markdown",
   "id": "f60f4d32",
   "metadata": {},
   "source": [
    "### b. Write a Python script that counts lines and characters in a file\n",
    "### code a Python module called library.py, which defines 3 functions:<br>countLines(file) function that reads an input file and counts the number of lines in it.<br>countChars(name) function that reads an input file and counts the number of characters in it.<br>countWords(name) function that reads an input file and counts the number of words in it.\n",
    "### call library methods from other script by passing a filename"
   ]
  },
  {
   "cell_type": "code",
   "execution_count": 1,
   "id": "fd0264dd",
   "metadata": {},
   "outputs": [
    {
     "name": "stdout",
     "output_type": "stream",
     "text": [
      "5\n",
      "0\n",
      "0\n"
     ]
    }
   ],
   "source": [
    "import library as lb\n",
    "import os\n",
    "with open(r\"C:\\Users\\clivinjohn.geju\\OneDrive - GAVS Technologies Private Limited\\Desktop\\example.txt\", 'r') as fp:\n",
    "    print(lb.countLines(fp))\n",
    "    print(lb.countWords(fp))\n",
    "    print(lb.countChars(fp))"
   ]
  },
  {
   "cell_type": "code",
   "execution_count": null,
   "id": "75aed17c",
   "metadata": {},
   "outputs": [],
   "source": [
    "with open(r\"C:\\Users\\clivinjohn.geju\\OneDrive - GAVS Technologies Private Limited\\Desktop\\example.txt\", 'r') as fp:\n",
    "    data = fp.readlines()\n",
    "    print(data)"
   ]
  },
  {
   "cell_type": "markdown",
   "id": "91bd4786",
   "metadata": {},
   "source": [
    "## Exercise 3 : Telephone directory"
   ]
  },
  {
   "cell_type": "markdown",
   "id": "c749c529",
   "metadata": {},
   "source": [
    "### Enter your first name, last name and phone number separated by comma. Input as many names as possible until you type stop to break the loop.\n",
    "### Use pattern matching to validate whether the phone number you entre is Indian number or US number. An Indian phone number has 10 digits continuously (8888888888), whereas US phone number has the following format (303-460-8907).\n",
    "### Store the first name, last name, phone and country, and date timestamp into an output file called 'telephone_directory'.<br>Country should be either US or India based on your validation using pattern matching.\n",
    "### Let date timestamp be the current time and let it be of the format 'dd-mm-yyyy HH:MM:SS'.\n",
    "### Use 'Others' as country if pattern matching fails on either Indian or US patterns.\n",
    "### Give a report to print number of Indian records, US records and 'Others' records.<br>And within US records, print the person whose details share the same area [the first 3 digits of US phone number is the area code; try using patter.search(string).groups() method]."
   ]
  },
  {
   "cell_type": "code",
   "execution_count": null,
   "id": "69ed35d6",
   "metadata": {},
   "outputs": [],
   "source": [
    "from datetime import datetime\n",
    "\n",
    "f = open(\"telephone_directory\", \"w+\")\n",
    "\n",
    "# initialise separate lists for each entry, and simultaneously enter in file\n",
    "fname = []\n",
    "lname = []\n",
    "pnum = []\n",
    "country = []\n",
    "date = []\n",
    "isit = True\n",
    "while isit == True:\n",
    "    inp = input('Enter first name, last name and phone number with comma spacing: ').split(',')\n",
    "    if 'stop' in inp:\n",
    "        isit = False\n",
    "    else:\n",
    "        fname.append(inp[0])\n",
    "        f.write(inp[0])\n",
    "        f.write('\\t')\n",
    "        lname.append(inp[1])\n",
    "        f.write(inp[1])\n",
    "        f.write('\\t')\n",
    "        pnum.append(inp[2])\n",
    "        f.write(inp[2])\n",
    "        f.write('\\t')\n",
    "        if '-' in inp[2]:\n",
    "            country.append('US')\n",
    "            f.write('US')\n",
    "            f.write('\\t')\n",
    "        elif len(inp[2]) == 10:\n",
    "            country.append('India')\n",
    "            f.write('India')\n",
    "            f.write('\\t')\n",
    "        else:\n",
    "            country.append('Others')\n",
    "            f.write('Others')\n",
    "            f.write('\\t')\n",
    "        now = datetime.now()\n",
    "        date.append(now.strftime(\"%d/%m/%Y %H:%M:%S\"))\n",
    "        f.write(now.strftime(\"%d/%m/%Y %H:%M:%S\"))\n",
    "        f.write('\\n')\n",
    "        \n",
    "# print countries in india group\n",
    "for c in range(len(country)):\n",
    "    if country[c] == 'India':\n",
    "        print(fname[c], lname[c], pnum[c], country[c])\n",
    "print()\n",
    "\n",
    "#print countries in us group\n",
    "for c in range(len(country)):\n",
    "    if country[c] == 'US':\n",
    "        print(fname[c], lname[c], pnum[c], country[c])\n",
    "print()\n",
    "\n",
    "#print countries in others group\n",
    "for c in range(len(country)):\n",
    "    if country[c] == 'Others':\n",
    "        print(fname[c], lname[c], pnum[c], country[c])\n",
    "print()\n",
    "\n",
    "#print us names with same area\n",
    "for c1 in range(len(country)):\n",
    "    for c2 in range(len(country)):\n",
    "        if fname[c1] == fname[c2] and lname[c1] == lname[c2]:\n",
    "            continue\n",
    "        else:\n",
    "            if country[c1] == 'US':\n",
    "                if country[c2] == 'US':\n",
    "                    temp1 = pnum[c1].split('-')\n",
    "                    temp2 = pnum[c2].split('-')\n",
    "                    if temp1[0] == temp2[0]:\n",
    "                        print(fname[c1], lname[c1], pnum[c1], country[c1])\n",
    "                        print(fname[c2], lname[c2], pnum[c2], country[c2])\n",
    "                        print()\n",
    "        "
   ]
  }
 ],
 "metadata": {
  "kernelspec": {
   "display_name": "Python 3 (ipykernel)",
   "language": "python",
   "name": "python3"
  },
  "language_info": {
   "codemirror_mode": {
    "name": "ipython",
    "version": 3
   },
   "file_extension": ".py",
   "mimetype": "text/x-python",
   "name": "python",
   "nbconvert_exporter": "python",
   "pygments_lexer": "ipython3",
   "version": "3.9.12"
  }
 },
 "nbformat": 4,
 "nbformat_minor": 5
}
