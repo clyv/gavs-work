{
 "cells": [
  {
   "cell_type": "markdown",
   "id": "6a5e88db",
   "metadata": {},
   "source": [
    "# Problem 1\n",
    "### Store the list of all Indian states (or atleast 10 to 15 states). Sort them alphabetically."
   ]
  },
  {
   "cell_type": "code",
   "execution_count": 1,
   "id": "a5284dc5",
   "metadata": {},
   "outputs": [
    {
     "name": "stdout",
     "output_type": "stream",
     "text": [
      "['Andhra Pradesh', 'Arunachal Pradesh', 'Assam', 'Bihar', 'Chattisgarh', 'Goa', 'Gujarat', 'Haryana', 'Himachal Pradesh', 'Jharkhand', 'Karnataka', 'Kerala', 'Madhya Pradesh', 'Maharashtra', 'Manipur', 'Meghalaya', 'Mizoram', 'Nagaland', 'Odisha', 'Punjab', 'Rajasthan', 'Sikkim', 'Tamil Nadu', 'Telangana', 'Tripura', 'Utarrakhand', 'Uttar Pradesh', 'West Bengal']\n"
     ]
    }
   ],
   "source": [
    "# Create a list of states (in chornological order of formation accordinf to BYJU's website)\n",
    "indian_states = ['Punjab', 'Rajasthan', 'Assam', 'Bihar', 'Madhya Pradesh', 'Odisha', 'Uttar Pradesh', 'West Bengal', \n",
    "                 'Andhra Pradesh', 'Karnataka', 'Kerala', 'Tamil Nadu', 'Gujarat', 'Maharashtra', 'Nagaland', 'Haryana', \n",
    "                 'Himachal Pradesh', 'Manipur', 'Meghalaya', 'Tripura', 'Sikkim', 'Arunachal Pradesh', 'Goa', 'Mizoram', \n",
    "                 'Chattisgarh', 'Jharkhand', 'Utarrakhand', 'Telangana']\n",
    "\n",
    "# Sort using sort function\n",
    "indian_states.sort()\n",
    "\n",
    "# Print\n",
    "print(indian_states)"
   ]
  },
  {
   "cell_type": "markdown",
   "id": "117b3837",
   "metadata": {},
   "source": [
    "# Problem 2\n",
    "### Using that sorted list from above, create a dictionary of capitals for all those states. This time, print the dictionary of states by alphabetical sorting of their capitals."
   ]
  },
  {
   "cell_type": "code",
   "execution_count": 2,
   "id": "80982e3b",
   "metadata": {},
   "outputs": [
    {
     "name": "stdout",
     "output_type": "stream",
     "text": [
      "{'Tripura': 'Agartala', 'Mizoram': 'Aizawl', 'Andhra Pradesh': 'Amravati', 'Karnataka': 'Bangalore', 'Madhya Pradesh': 'Bhopal', 'Odisha': 'Bhubaneswar', 'Haryana': 'Chandigarh', 'Tamil Nadu': 'Chennai', 'Utarrakhand': 'Dehradun', 'Assam': 'Dispur', 'Gujarat': 'Gandhinagar', 'Sikkim': 'Gangtok', 'Telangana': 'Hyderabad', 'Manipur': 'Imphal', 'Arunachal Pradesh': 'Itanagar', 'Rajasthan': 'Jaipur', 'Nagaland': 'Kohima', 'West Bengal': 'Kolkata', 'Uttar Pradesh': 'Lucknow', 'Maharashtra': 'Mumbai', 'Chattisgarh': 'Naya Raipur', 'Goa': 'Panaji', 'Bihar': 'Patna', 'Jharkhand': 'Ranchi', 'Meghalaya': 'Shillong', 'Himachal Pradesh': 'Shimla', 'Kerala': 'Thiruvananthapuram'}\n"
     ]
    }
   ],
   "source": [
    "# Create list of capitals according to alphabetical order of states\n",
    "indian_capitals = ['Amravati', 'Itanagar', 'Dispur', 'Patna', 'Naya Raipur', 'Panaji', 'Gandhinagar', 'Chandigarh', 'Shimla', \n",
    "                   'Ranchi', 'Bangalore', 'Thiruvananthapuram', 'Bhopal', 'Mumbai', 'Imphal', 'Shillong', 'Aizawl', 'Kohima', \n",
    "                   'Bhubaneswar', 'Chandigarh', 'Jaipur', 'Gangtok', 'Chennai', 'Hyderabad', 'Agartala', 'Dehradun', 'Lucknow', \n",
    "                   'Kolkata']\n",
    "\n",
    "# Use dictionary cmoprehension to combine the lists into a dictionary\n",
    "state_capital = {indian_states[i]: indian_capitals[i] for i in range(len(indian_states))}\n",
    "\n",
    "# Sort dictionary based on alphabetical order of capitals\n",
    "sorted_capitals = sorted(state_capital.values())\n",
    "sorted_state_capital = {}\n",
    "\n",
    "for i in sorted_capitals:\n",
    "    for k in state_capital.keys():\n",
    "        if state_capital[k] == i:\n",
    "            sorted_state_capital[k] = state_capital[k]\n",
    "            break\n",
    "\n",
    "# Print\n",
    "print(sorted_state_capital)"
   ]
  },
  {
   "cell_type": "markdown",
   "id": "69882cb5",
   "metadata": {},
   "source": [
    "# Problem 3\n",
    "### Get your user name and password as input as a comma separated string \n",
    "### Validate if name and password is a string. Else, exit \n",
    "### If length of user name exceeds 10 chars, print message and exit \n",
    "### Or if length of password exceeds 8 chars, print message and exit \n",
    "### Validate if user name contains a mix of capital and lower case. If not, print message and exit \n",
    "### Validate if password contains atleast one alphabetic char, numeric char and one special symbol like @#$%!^&*.If any one of validation fails, print message and exit \n",
    "### If all above validation passes, store your username and password (if they pass all the above validations) in a dictionary."
   ]
  },
  {
   "cell_type": "code",
   "execution_count": 3,
   "id": "96217f72",
   "metadata": {},
   "outputs": [
    {
     "name": "stdout",
     "output_type": "stream",
     "text": [
      "Hello,s!0th\n",
      "{'Hello': 's!0th'}\n"
     ]
    }
   ],
   "source": [
    "import re\n",
    "user_pass = input().split(',')\n",
    "usern = user_pass[0]\n",
    "passw = user_pass[1]\n",
    "\n",
    "# Check username and password\n",
    "message = []\n",
    "dict_info = {}\n",
    "\n",
    "if len(usern) >= 10 or len(passw) >= 8:\n",
    "    message.append('Username or Password is long')\n",
    "    print(message)\n",
    "elif not any(x.isupper() for x in usern):\n",
    "    message.append('Username must contain at least one uppper case character')\n",
    "    print(message)\n",
    "elif not any(x.islower() for x in usern):\n",
    "    message.append('Username must contain at least one lower case character')\n",
    "    print(message)\n",
    "elif not any(x.isdigit() for x in passw):\n",
    "    message.append('Password must contain at least one number')\n",
    "    print(message)\n",
    "elif not any(x.isalpha() for x in passw):\n",
    "    message.append('Password must contain at least one letter')\n",
    "    print(message)\n",
    "elif '@' in passw or '#' in passw or '$' in passw or '%' in passw or '!' in passw or '^' in passw or '&' in passw or '*' in passw:\n",
    "    dict_info[usern] = passw\n",
    "    print(dict_info)\n",
    "else:\n",
    "    message.append('Password must contain at least one special character')\n",
    "    print(message)"
   ]
  },
  {
   "cell_type": "markdown",
   "id": "3fdfcfaa",
   "metadata": {},
   "source": [
    "# Problem 4\n",
    "### Write a Python program to find those numbers which are divisible by 7 and multiple of 5, between 1500 and 2700 (both included). "
   ]
  },
  {
   "cell_type": "code",
   "execution_count": 4,
   "id": "3b7b650f",
   "metadata": {},
   "outputs": [
    {
     "name": "stdout",
     "output_type": "stream",
     "text": [
      "1505  \n",
      "1540  \n",
      "1575  \n",
      "1610  \n",
      "1645  \n",
      "1680  \n",
      "1715  \n",
      "1750  \n",
      "1785  \n",
      "1820  \n",
      "1855  \n",
      "1890  \n",
      "1925  \n",
      "1960  \n",
      "1995  \n",
      "2030  \n",
      "2065  \n",
      "2100  \n",
      "2135  \n",
      "2170  \n",
      "2205  \n",
      "2240  \n",
      "2275  \n",
      "2310  \n",
      "2345  \n",
      "2380  \n",
      "2415  \n",
      "2450  \n",
      "2485  \n",
      "2520  \n",
      "2555  \n",
      "2590  \n",
      "2625  \n",
      "2660  \n",
      "2695  \n"
     ]
    }
   ],
   "source": [
    "for x in range(1500, 2701):\n",
    "    if (x % 7) == 0 and (x % 5) == 0:\n",
    "        print(x, ' ')"
   ]
  },
  {
   "cell_type": "markdown",
   "id": "3a91f1aa",
   "metadata": {},
   "source": [
    "# Problem 5\n",
    "### Write a Python program to guess any random number. If user enters a number between 1 to 100 and if that number is divisible by both 5 and 3, print  the message ' Your guess is right' . Else, print 'Your guess is wrong'. If user enters the message 'stop' instead of number, the program should exit "
   ]
  },
  {
   "cell_type": "code",
   "execution_count": 5,
   "id": "fdf543b4",
   "metadata": {},
   "outputs": [
    {
     "name": "stdout",
     "output_type": "stream",
     "text": [
      "Guess a random number:15\n",
      "Your guess is right\n"
     ]
    }
   ],
   "source": [
    "user = input('Guess a random number:')\n",
    "num = int(user)\n",
    "if not any(x.isdigit() for x in user):\n",
    "    exit()\n",
    "else:\n",
    "    if num >= 1 and num <=100:\n",
    "        if (num % 3) == 0 and (num % 5) == 0:\n",
    "            print('Your guess is right')\n",
    "        else:\n",
    "            print('Your guess is wrong')\n",
    "    else:\n",
    "        print('Your guess is wrong')"
   ]
  },
  {
   "cell_type": "markdown",
   "id": "e9fca59f",
   "metadata": {},
   "source": [
    "# Problem 6\n",
    "### Write a Python program to get the Fibonacci series between 0 to 50. \n",
    "### Expected Output : 1 1 2 3 5 8 13 21 34 "
   ]
  },
  {
   "cell_type": "code",
   "execution_count": 6,
   "id": "9a9d63be",
   "metadata": {},
   "outputs": [
    {
     "name": "stdout",
     "output_type": "stream",
     "text": [
      "0\n",
      "1\n",
      "1\n",
      "2\n",
      "3\n",
      "5\n",
      "8\n",
      "13\n",
      "21\n",
      "34\n"
     ]
    }
   ],
   "source": [
    "a = 0\n",
    "b = 1\n",
    "print(a)\n",
    "print(b)\n",
    "c = a + b\n",
    "print(c)\n",
    "while c < 30:\n",
    "    a = b\n",
    "    b = c\n",
    "    c = a + b\n",
    "    print(c)"
   ]
  },
  {
   "cell_type": "markdown",
   "id": "be71bf1b",
   "metadata": {},
   "source": [
    "# Problem 7\n",
    "### Write a Python program to check whether an alphabet is a vowel or consonant. \n",
    "### Expected Output: \n",
    "### Input a letter of the alphabet: k \n",
    "### k is a consonant. "
   ]
  },
  {
   "cell_type": "code",
   "execution_count": 7,
   "id": "5cd016df",
   "metadata": {},
   "outputs": [
    {
     "name": "stdout",
     "output_type": "stream",
     "text": [
      "Enter an alphabet:k\n",
      "k is a consonant\n"
     ]
    }
   ],
   "source": [
    "user=input('Enter an alphabet:')\n",
    "vowel = False\n",
    "if user == 'a':\n",
    "    vowel = True\n",
    "elif user == ' e':\n",
    "    vowel = True\n",
    "elif user == 'i':\n",
    "    vowel = True\n",
    "elif user == 'o':\n",
    "    vowel = True\n",
    "elif user == 'u':\n",
    "    vowel = True\n",
    "\n",
    "if vowel:\n",
    "    print(user + ' is a vowel')\n",
    "else:\n",
    "    print(user + ' is a consonant')"
   ]
  },
  {
   "cell_type": "markdown",
   "id": "a8bcfde8",
   "metadata": {},
   "source": [
    "# Problem 8\n",
    "### Write a Python program to convert month name to number of days. \n",
    "### Expected Output: List of months: January, February, March, April, May, June, July, August , September, October, November, December \n",
    "### Input the name of Month: February \n",
    "### No. of days: 28/29 days"
   ]
  },
  {
   "cell_type": "code",
   "execution_count": 8,
   "id": "e0c0ae1d",
   "metadata": {},
   "outputs": [
    {
     "name": "stdout",
     "output_type": "stream",
     "text": [
      "Enter a month:April\n",
      "No. of days: 30 days\n"
     ]
    }
   ],
   "source": [
    "user = input('Enter a month:')\n",
    "if user == 'January' or user == 'March' or user == 'May' or user == 'July' or user == 'August' or user == 'October' or user == 'December':\n",
    "    print('No. of days: 31 days')\n",
    "elif user == 'April' or user == 'June' or user == 'September' or user == 'November':\n",
    "    print('No. of days: 30 days')\n",
    "elif user == 'February':\n",
    "    print('No. of days: 28/29 days')"
   ]
  },
  {
   "cell_type": "markdown",
   "id": "63e20c11",
   "metadata": {},
   "source": [
    "# Problem 9\n",
    "### Write a Python program to create the multiplication table (from 1 to 10) of a number."
   ]
  },
  {
   "cell_type": "code",
   "execution_count": 9,
   "id": "e6c3b2b5",
   "metadata": {},
   "outputs": [
    {
     "name": "stdout",
     "output_type": "stream",
     "text": [
      "Enter a number: 7\n",
      "7 x 1 = 7\n",
      "7 x 2 = 14\n",
      "7 x 3 = 21\n",
      "7 x 4 = 28\n",
      "7 x 5 = 35\n",
      "7 x 6 = 42\n",
      "7 x 7 = 49\n",
      "7 x 8 = 56\n",
      "7 x 9 = 63\n",
      "7 x 10 = 70\n"
     ]
    }
   ],
   "source": [
    "user = int(input('Enter a number: '))\n",
    "for count in range(1, 11):      \n",
    "   print(user, 'x', count, '=', user * count)    "
   ]
  },
  {
   "cell_type": "markdown",
   "id": "382e8a7e",
   "metadata": {},
   "source": [
    "# Problem 10\n",
    "### Write a Python program which accepts a sequence of comma-separated numbers from user and generate a list and a tuple with those numbers. \n",
    "### Sample data: 3,5,7,23\n",
    "### Output: <br>List:['3','5','7','23'] <br>Tuple:('3','5','7','23')"
   ]
  },
  {
   "cell_type": "code",
   "execution_count": 10,
   "id": "37c484c3",
   "metadata": {},
   "outputs": [
    {
     "name": "stdout",
     "output_type": "stream",
     "text": [
      "3,5,7,23\n",
      "['3', '5', '7', '23']\n",
      "('3', '5', '7', '23')\n"
     ]
    }
   ],
   "source": [
    "# splitt = []\n",
    "splitt = input().split(',')\n",
    "print(splitt)\n",
    "print(tuple(splitt))"
   ]
  },
  {
   "cell_type": "markdown",
   "id": "7f19ac8f",
   "metadata": {},
   "source": [
    "# Problem 11\n",
    "### Get a filename from user and print the extension of file \n",
    "### Sample : abcname.java \n",
    "### Output : the file entered is a .java file "
   ]
  },
  {
   "cell_type": "code",
   "execution_count": 11,
   "id": "65c72135",
   "metadata": {},
   "outputs": [
    {
     "name": "stdout",
     "output_type": "stream",
     "text": [
      "abcname.java\n",
      "The file entered is a .java file\n"
     ]
    }
   ],
   "source": [
    "user = input().split('.')\n",
    "print('The file entered is a .' + user[1] + ' file')"
   ]
  },
  {
   "cell_type": "markdown",
   "id": "3c8394c8",
   "metadata": {},
   "source": [
    "# Problem 12\n",
    "### Write a Python script to check max of 2 numbers. \n",
    "### Write a function to compute the max of 2 numbers. 2 numbers should be entered as input from user. "
   ]
  },
  {
   "cell_type": "code",
   "execution_count": 12,
   "id": "0e1f5502",
   "metadata": {},
   "outputs": [
    {
     "name": "stdout",
     "output_type": "stream",
     "text": [
      "Enter first number: 5\n",
      "Enter second number: 4\n",
      "Max number is 5\n"
     ]
    }
   ],
   "source": [
    "a = int(input('Enter first number: '))\n",
    "b = int(input('Enter second number: '))\n",
    "def compare(a, b):\n",
    "    if a > b:\n",
    "        print('Max number is ' + str(a))\n",
    "    else:\n",
    "        print('Max number is ' + str(b))\n",
    "        \n",
    "compare(a,b)"
   ]
  },
  {
   "cell_type": "markdown",
   "id": "7a3b0b5d",
   "metadata": {},
   "source": [
    "# Problem 13\n",
    "### Get as many employee ids as input from user. Validate if any of employee ids entered is a duplicate. If it's a duplicate, print 'Invalid input. Try again' and get the input again. If user enters a message -1, then, stop the inputs. "
   ]
  },
  {
   "cell_type": "code",
   "execution_count": 13,
   "id": "d2b976c1",
   "metadata": {},
   "outputs": [
    {
     "name": "stdout",
     "output_type": "stream",
     "text": [
      "Enter employee IDs with spaces: 12 23 23 34 45\n",
      "Invalid input. Try again\n",
      "56\n",
      "[12, 23, 56, 34, 45]\n"
     ]
    }
   ],
   "source": [
    "# Assume Employee IDs are numerical\n",
    "user_input = input('Enter employee IDs with spaces: ')\n",
    "empid_list = user_input.split()\n",
    "for i in range(len(empid_list)):\n",
    "    empid_list[i] = int(empid_list[i])\n",
    "# Check if -1 is entered by user, assuming user would enter -1 last after every other Employee ID entered\n",
    "for i in range(len(empid_list)):\n",
    "    if empid_list[i] == -1:\n",
    "        exit()\n",
    "# Check for duplicate ID\n",
    "for i in range(len(empid_list)):\n",
    "    for j in range(len(empid_list)):\n",
    "        if i == j:\n",
    "            continue\n",
    "        elif empid_list[j] == empid_list[i]:\n",
    "            print('Invalid input. Try again')\n",
    "            empid_list[j] = int(input())\n",
    "            print(empid_list) # Print list to show updated Employee ID"
   ]
  },
  {
   "cell_type": "markdown",
   "id": "0e338654",
   "metadata": {},
   "source": [
    "# Problem 14\n",
    "### Get student name and score as input (seperated by a comma while typing in console). Restrict the number of students to 5. Create a mapping of name and score. Rank order the student details based on their scores. Score with 100 is rank1 and score with 99 is rank2. There can be more than one student who can have same score - in this case, print the student names seperated by a comma. "
   ]
  },
  {
   "cell_type": "code",
   "execution_count": 14,
   "id": "1057cd2e",
   "metadata": {},
   "outputs": [
    {
     "name": "stdout",
     "output_type": "stream",
     "text": [
      "adam,100\n",
      "bob,55\n",
      "chloe,60\n",
      "david,35\n",
      "emily,40\n",
      "\n",
      "\n"
     ]
    },
    {
     "ename": "TypeError",
     "evalue": "'dict_values' object is not callable",
     "output_type": "error",
     "traceback": [
      "\u001b[1;31m---------------------------------------------------------------------------\u001b[0m",
      "\u001b[1;31mTypeError\u001b[0m                                 Traceback (most recent call last)",
      "Input \u001b[1;32mIn [14]\u001b[0m, in \u001b[0;36m<cell line: 11>\u001b[1;34m()\u001b[0m\n\u001b[0;32m      8\u001b[0m \u001b[38;5;28mprint\u001b[39m()\n\u001b[0;32m     10\u001b[0m \u001b[38;5;66;03m# Sort dictionary based on value and then print\u001b[39;00m\n\u001b[1;32m---> 11\u001b[0m \u001b[38;5;28;01mfor\u001b[39;00m w \u001b[38;5;129;01min\u001b[39;00m \u001b[38;5;28;43msorted\u001b[39;49m\u001b[43m(\u001b[49m\u001b[43mstudent_score\u001b[49m\u001b[43m,\u001b[49m\u001b[43m \u001b[49m\u001b[43mkey\u001b[49m\u001b[43m \u001b[49m\u001b[38;5;241;43m=\u001b[39;49m\u001b[43m \u001b[49m\u001b[43mstudent_score\u001b[49m\u001b[38;5;241;43m.\u001b[39;49m\u001b[43mvalues\u001b[49m\u001b[43m(\u001b[49m\u001b[43m)\u001b[49m\u001b[43m,\u001b[49m\u001b[43m \u001b[49m\u001b[43mreverse\u001b[49m\u001b[43m \u001b[49m\u001b[38;5;241;43m=\u001b[39;49m\u001b[43m \u001b[49m\u001b[38;5;28;43;01mTrue\u001b[39;49;00m\u001b[43m)\u001b[49m:\n\u001b[0;32m     12\u001b[0m     \u001b[38;5;28mprint\u001b[39m(w,\u001b[38;5;124m'\u001b[39m\u001b[38;5;124m,\u001b[39m\u001b[38;5;124m'\u001b[39m, student_score[w])\n",
      "\u001b[1;31mTypeError\u001b[0m: 'dict_values' object is not callable"
     ]
    }
   ],
   "source": [
    "import operator\n",
    "student_score = {}\n",
    "user_entry = []\n",
    "for i in range(5):\n",
    "    user_entry = input().split(',') # Input as list\n",
    "    student_score[user_entry[0]] = user_entry[1] # Convert to dictionary\n",
    "print()\n",
    "print()\n",
    "\n",
    "# Sort dictionary based on value and then print\n",
    "for w in sorted(student_score, key = student_score.values(), reverse = True):\n",
    "    print(w,',', student_score[w])"
   ]
  },
  {
   "cell_type": "markdown",
   "id": "430b7b55",
   "metadata": {},
   "source": [
    "# Problem 15\n",
    "### Experimental exercise : Convert a string to list,tuple,dictionary,set,number and vice-versa and see which one works and which one does not. This is for emphasizing the usage of type-casting functions."
   ]
  },
  {
   "cell_type": "code",
   "execution_count": 15,
   "id": "e867975b",
   "metadata": {},
   "outputs": [
    {
     "name": "stdout",
     "output_type": "stream",
     "text": [
      "Enter a string:hello there\n",
      "['hello', 'there']\n",
      "('hello', 'there')\n",
      "{' ', 'h', 'r', 't', 'l', 'o', 'e'}\n"
     ]
    }
   ],
   "source": [
    "user_input = input('Enter a string:')\n",
    "print(user_input.split()) # Print string as list\n",
    "print(tuple(user_input.split()))\n",
    "# print(dict(substr.split() for substr in user_input.split()))\n",
    "# Unable to convert normal sentence to dictionary\n",
    "print(set(user_input))\n",
    "# print(int(user_input))\n",
    "# Unable to convert normal sentence to number"
   ]
  }
 ],
 "metadata": {
  "kernelspec": {
   "display_name": "Python 3 (ipykernel)",
   "language": "python",
   "name": "python3"
  },
  "language_info": {
   "codemirror_mode": {
    "name": "ipython",
    "version": 3
   },
   "file_extension": ".py",
   "mimetype": "text/x-python",
   "name": "python",
   "nbconvert_exporter": "python",
   "pygments_lexer": "ipython3",
   "version": "3.9.12"
  }
 },
 "nbformat": 4,
 "nbformat_minor": 5
}
