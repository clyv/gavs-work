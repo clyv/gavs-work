{
 "cells": [
  {
   "cell_type": "markdown",
   "id": "9bde90b1",
   "metadata": {},
   "source": [
    "### 1. Define a string S of four characters: S = \"spam\". Write an assignment that changes the string to \"slam\", using only slicing and concatenation.<br>Could you perform the same operation using just indexing and concatenation. How about index assignments?"
   ]
  },
  {
   "cell_type": "code",
   "execution_count": 14,
   "id": "3df9967c",
   "metadata": {},
   "outputs": [
    {
     "name": "stdout",
     "output_type": "stream",
     "text": [
      "slam\n",
      "slam\n"
     ]
    },
    {
     "ename": "TypeError",
     "evalue": "'str' object does not support item assignment",
     "output_type": "error",
     "traceback": [
      "\u001b[1;31m---------------------------------------------------------------------------\u001b[0m",
      "\u001b[1;31mTypeError\u001b[0m                                 Traceback (most recent call last)",
      "Input \u001b[1;32mIn [14]\u001b[0m, in \u001b[0;36m<cell line: 15>\u001b[1;34m()\u001b[0m\n\u001b[0;32m     13\u001b[0m \u001b[38;5;66;03m# Using index assignment\\\u001b[39;00m\n\u001b[0;32m     14\u001b[0m S \u001b[38;5;241m=\u001b[39m \u001b[38;5;124m\"\u001b[39m\u001b[38;5;124mspam\u001b[39m\u001b[38;5;124m\"\u001b[39m\n\u001b[1;32m---> 15\u001b[0m S[\u001b[38;5;241m1\u001b[39m] \u001b[38;5;241m=\u001b[39m \u001b[38;5;124m\"\u001b[39m\u001b[38;5;124ml\u001b[39m\u001b[38;5;124m\"\u001b[39m\n",
      "\u001b[1;31mTypeError\u001b[0m: 'str' object does not support item assignment"
     ]
    }
   ],
   "source": [
    "# Using slicing and concatenation\n",
    "S = \"spam\"\n",
    "S = S[:1] + \"l\" + S[2:]\n",
    "print(S)\n",
    "\n",
    "# Using indexing and concatenation\n",
    "S = \"spam\"\n",
    "n = 1\n",
    "c = \"l\"\n",
    "S = S[0:n] + c + S[n+1:] \n",
    "print(S)\n",
    "\n",
    "# Using index assignment\\\n",
    "S = \"spam\"\n",
    "S[1] = \"l\"\n",
    "# An error occurs"
   ]
  },
  {
   "cell_type": "markdown",
   "id": "75f1e253",
   "metadata": {},
   "source": [
    "### 2. Write a script that creates a new output file called myfile.txt and writes the string \"Hello file world!\" into it. Then write another script that opens myfile.txt and reads and prints its contents."
   ]
  },
  {
   "cell_type": "code",
   "execution_count": 15,
   "id": "72237760",
   "metadata": {},
   "outputs": [
    {
     "data": {
      "text/plain": [
       "<function TextIOWrapper.close()>"
      ]
     },
     "execution_count": 15,
     "metadata": {},
     "output_type": "execute_result"
    }
   ],
   "source": [
    "f = open(\"myfile.txt\", \"w+\")\n",
    "f.write(\"Hello file world!\")\n",
    "f.close"
   ]
  },
  {
   "cell_type": "code",
   "execution_count": 17,
   "id": "73f2c876",
   "metadata": {},
   "outputs": [
    {
     "name": "stdout",
     "output_type": "stream",
     "text": [
      "Hello file world!\n"
     ]
    }
   ],
   "source": [
    "f2 = open(\"myfile.txt\", \"r\")\n",
    "contents = f2.read()\n",
    "print(contents)"
   ]
  },
  {
   "cell_type": "markdown",
   "id": "c948fbc1",
   "metadata": {},
   "source": [
    "### 3. Write a python program to display the current date and time"
   ]
  },
  {
   "cell_type": "code",
   "execution_count": 18,
   "id": "0c76fafd",
   "metadata": {},
   "outputs": [
    {
     "name": "stdout",
     "output_type": "stream",
     "text": [
      "Current date and time:\n",
      "22/08/2022 11:13:26\n"
     ]
    }
   ],
   "source": [
    "from datetime import datetime\n",
    "now = datetime.now()\n",
    "dt_string = now.strftime(\"%d/%m/%Y %H:%M:%S\")\n",
    "print('Current date and time:')\n",
    "print(dt_string)"
   ]
  },
  {
   "cell_type": "markdown",
   "id": "5782569d",
   "metadata": {},
   "source": [
    "### 4. Write a Python program which accepts the radius of a circle from the user and compute the area. The user should enter radius as input and the area should be computed"
   ]
  },
  {
   "cell_type": "code",
   "execution_count": 22,
   "id": "70713949",
   "metadata": {},
   "outputs": [
    {
     "name": "stdout",
     "output_type": "stream",
     "text": [
      "Enter radius of circle: 23\n",
      "Area of circle is 1661.9025137490005\n"
     ]
    }
   ],
   "source": [
    "import math\n",
    "rad = int(input('Enter radius of circle: '))\n",
    "area = math.pi * rad * rad\n",
    "print('Area of circle is', area)"
   ]
  },
  {
   "cell_type": "markdown",
   "id": "63a64cc9",
   "metadata": {},
   "source": [
    "### 5. Write a Python program which accepts the user's first and last name and print them in reverse order with a space between them."
   ]
  },
  {
   "cell_type": "code",
   "execution_count": 23,
   "id": "41a0ba49",
   "metadata": {},
   "outputs": [
    {
     "name": "stdout",
     "output_type": "stream",
     "text": [
      "Enter first name: Clivin\n",
      "Enter last name: John\n",
      "John Clivin\n"
     ]
    }
   ],
   "source": [
    "fname = input('Enter first name: ')\n",
    "lname = input('Enter last name: ')\n",
    "revname = lname + \" \" + fname\n",
    "print(revname)"
   ]
  },
  {
   "cell_type": "markdown",
   "id": "6d7ea5a4",
   "metadata": {},
   "source": [
    "### 6. Write a Python program which accepts a sequence of comma separated numbers from a user and generate a list and tuple with those numbers."
   ]
  },
  {
   "cell_type": "code",
   "execution_count": 24,
   "id": "18d15232",
   "metadata": {},
   "outputs": [
    {
     "name": "stdout",
     "output_type": "stream",
     "text": [
      "1,2,3,4,5,6,7,8,9\n",
      "['1', '2', '3', '4', '5', '6', '7', '8', '9']\n",
      "('1', '2', '3', '4', '5', '6', '7', '8', '9')\n"
     ]
    }
   ],
   "source": [
    "userl = input().split(',')\n",
    "print(userl)\n",
    "print(tuple(userl))"
   ]
  },
  {
   "cell_type": "markdown",
   "id": "720fe54b",
   "metadata": {},
   "source": [
    "### 7. Write a Python program to accept a file name from the user and print the extension of that."
   ]
  },
  {
   "cell_type": "code",
   "execution_count": 25,
   "id": "49b40bef",
   "metadata": {},
   "outputs": [
    {
     "name": "stdout",
     "output_type": "stream",
     "text": [
      "example.java\n",
      "java\n"
     ]
    }
   ],
   "source": [
    "filename = input().split('.')\n",
    "print(filename[1])"
   ]
  },
  {
   "cell_type": "markdown",
   "id": "57026463",
   "metadata": {},
   "source": [
    "### 8. Write a Python program to display the first ad last colors from the following list:<br>color_list = [\"Red\",\"Green\",\"White\",\"Black\"]"
   ]
  },
  {
   "cell_type": "code",
   "execution_count": 26,
   "id": "c958719c",
   "metadata": {},
   "outputs": [
    {
     "name": "stdout",
     "output_type": "stream",
     "text": [
      "Red\n",
      "Black\n"
     ]
    }
   ],
   "source": [
    "color_list = [\"Red\",\"Green\",\"White\",\"Black\"]\n",
    "print(color_list[0])\n",
    "print(color_list[len(color_list) - 1])"
   ]
  },
  {
   "cell_type": "markdown",
   "id": "d4b47c5a",
   "metadata": {},
   "source": [
    "### 9. Write a Python script to check max of 2 numbers. Write a function to compute the max of 2 numbers. 2 numbers should be entered by user as input."
   ]
  },
  {
   "cell_type": "code",
   "execution_count": 27,
   "id": "1202dd91",
   "metadata": {},
   "outputs": [
    {
     "name": "stdout",
     "output_type": "stream",
     "text": [
      "Enter first number: 5\n",
      "Enter second number: 4\n",
      "5\n"
     ]
    }
   ],
   "source": [
    "a = int(input('Enter first number: '))\n",
    "b = int(input('Enter second number: '))\n",
    "\n",
    "def findmax(a, b):\n",
    "    if a > b:\n",
    "        return a\n",
    "    else:\n",
    "        return b\n",
    "    \n",
    "print(findmax(a,b))"
   ]
  },
  {
   "cell_type": "markdown",
   "id": "39d60818",
   "metadata": {},
   "source": [
    "### 10. Write a Python program to test whether a passed letter is a vowel or not. The letter should be entered as input from user."
   ]
  },
  {
   "cell_type": "code",
   "execution_count": 28,
   "id": "ef073e32",
   "metadata": {},
   "outputs": [
    {
     "name": "stdout",
     "output_type": "stream",
     "text": [
      "Enter an alphabet:k\n",
      "k is a consonant\n"
     ]
    }
   ],
   "source": [
    "user=input('Enter an alphabet:')\n",
    "vowel = False\n",
    "if user == 'a' or user == 'e' or user == 'i' or user == 'o' or user == 'u':\n",
    "    vowel = True\n",
    "\n",
    "if vowel:\n",
    "    print(user + ' is a vowel')\n",
    "else:\n",
    "    print(user + ' is a consonant')"
   ]
  },
  {
   "cell_type": "markdown",
   "id": "74c1f3cd",
   "metadata": {},
   "source": [
    "### 11. Write a Python program to check whether a specified value is containned in a group of values."
   ]
  },
  {
   "cell_type": "code",
   "execution_count": 29,
   "id": "97efec1b",
   "metadata": {},
   "outputs": [
    {
     "name": "stdout",
     "output_type": "stream",
     "text": [
      "Enter numbers with spacing: 1 2 3 4 5 6 7 8 9\n",
      "Enter number to find in list: 78\n",
      "Number not in list\n"
     ]
    }
   ],
   "source": [
    "user_input = input('Enter numbers with spacing: ')\n",
    "num_list = user_input.split()\n",
    "\n",
    "# Convert list values to decimal form\n",
    "for i in range(len(num_list)):\n",
    "    num_list[i] = float(num_list[i])\n",
    "    \n",
    "findn = int(input('Enter number to find in list: '))\n",
    "\n",
    "result = False\n",
    "for num in num_list:\n",
    "    if num == findn:\n",
    "        result = True\n",
    "        \n",
    "if result:\n",
    "    print('Number is in list')\n",
    "else:\n",
    "    print('Number not in list')"
   ]
  },
  {
   "cell_type": "markdown",
   "id": "a05f381e",
   "metadata": {},
   "source": [
    "### 12. Write a Python program to list all files in a Windows directory"
   ]
  },
  {
   "cell_type": "code",
   "execution_count": 30,
   "id": "d7d3c333",
   "metadata": {},
   "outputs": [
    {
     "name": "stdout",
     "output_type": "stream",
     "text": [
      "['bfsvc.exe', 'bootstat.dat', 'cfgall.ini', 'Core.xml', 'CoreSingleLanguage.xml', 'csup.txt', 'diagerr.xml', 'diagwrn.xml', 'dsacrash.dmp', 'explorer.exe', 'HelpPane.exe', 'hh.exe', 'invcol.tmp', 'MEMORY.DMP', 'mib.bin', 'notepad.exe', 'PFRO.log', 'Professional.xml', 'RegBootClean64.exe', 'regedit.exe', 'RtlExUpd.dll', 'SMSAdvancedClient.cm1910-client-kb4537079-x64.mif', 'SMSAdvancedClient.configmgr1810-client-kb4488598-x64.mif', 'SMSAdvancedClient.configmgr1906-client-kb4517869-x64.mif', 'SMSCFG.ini', 'splwow64.exe', 'system.ini', 'TmComm.log', 'TMiACAgentSetup.log', 'twain_32.dll', 'win.ini', 'WindowsShell.Manifest', 'WindowsUpdate.log', 'winhlp32.exe', 'WMSysPr9.prx', 'write.exe']\n"
     ]
    }
   ],
   "source": [
    "import os\n",
    "dir_path = r'C:\\\\Windows\\\\'\n",
    "res = [] # a list to store files\n",
    "for path in os.listdir(dir_path):\n",
    "    # check if current path is a file\n",
    "    if os.path.isfile(os.path.join(dir_path, path)):\n",
    "        res.append(path)\n",
    "print(res)"
   ]
  },
  {
   "cell_type": "markdown",
   "id": "be17cebf",
   "metadata": {},
   "source": [
    "### 13. Write a Python program to find local IP addresses using Python's stdlib module"
   ]
  },
  {
   "cell_type": "code",
   "execution_count": 31,
   "id": "4ea4d49a",
   "metadata": {},
   "outputs": [
    {
     "name": "stdout",
     "output_type": "stream",
     "text": [
      "10.0.21.25\n"
     ]
    }
   ],
   "source": [
    "import socket\n",
    "\n",
    "print([l for l in ([ip for ip in socket.gethostbyname_ex(socket.gethostname())[2] \n",
    "if not ip.startswith(\"127.\")][:1], [[(s.connect(('8.8.8.8', 53)), \n",
    "s.getsockname()[0], s.close()) for s in [socket.socket(socket.AF_INET, \n",
    "socket.SOCK_DGRAM)]][0][1]]) if l][0][0])"
   ]
  },
  {
   "cell_type": "markdown",
   "id": "ccd9466f",
   "metadata": {},
   "source": [
    "### 14. Write a Python program to get a string made of the first 2 and last 2 chars from a given string. If the string length is less than 2, return empty string."
   ]
  },
  {
   "cell_type": "code",
   "execution_count": 32,
   "id": "877138ab",
   "metadata": {},
   "outputs": [
    {
     "name": "stdout",
     "output_type": "stream",
     "text": [
      "Enter a string: w3resource\n",
      "w3ce\n"
     ]
    }
   ],
   "source": [
    "u_str = input('Enter a string: ')\n",
    "if len(u_str) < 2:\n",
    "    print('Empty string')\n",
    "    exit()\n",
    "print(u_str[0] + u_str[1] + u_str[len(u_str) - 2] + u_str[len(u_str) - 1])"
   ]
  },
  {
   "cell_type": "markdown",
   "id": "c5147713",
   "metadata": {},
   "source": [
    "### 15. Write a Python program to count the occurrences of each word in a given sentence."
   ]
  },
  {
   "cell_type": "code",
   "execution_count": 33,
   "id": "f896c7e7",
   "metadata": {},
   "outputs": [
    {
     "name": "stdout",
     "output_type": "stream",
     "text": [
      "{'the': 2, 'quick': 1, 'brown': 1, 'fox': 1, 'jumps': 1, 'over': 1, 'lazy': 1, 'dog.': 1}\n"
     ]
    }
   ],
   "source": [
    "def count_word(str):\n",
    "    counts = dict()\n",
    "    words = str.split()\n",
    "\n",
    "    for word in words:\n",
    "        if word in counts:\n",
    "            counts[word] += 1\n",
    "        else:\n",
    "            counts[word] = 1\n",
    "\n",
    "    return counts\n",
    "\n",
    "print(count_word('the quick brown fox jumps over the lazy dog.'))"
   ]
  },
  {
   "cell_type": "markdown",
   "id": "553dc32e",
   "metadata": {},
   "source": [
    "### 16. Write a Python function to reverse a string. If your name is entered as input, the reverse of your name should be displayed as output."
   ]
  },
  {
   "cell_type": "code",
   "execution_count": 34,
   "id": "d6b5d332",
   "metadata": {},
   "outputs": [
    {
     "name": "stdout",
     "output_type": "stream",
     "text": [
      "Enter a string: Clivin\n",
      "nivilC\n"
     ]
    }
   ],
   "source": [
    "u_n = input('Enter a string: ')\n",
    "\n",
    "def revstr(u_n):\n",
    "    return u_n[::-1]\n",
    "\n",
    "print(revstr(u_n))"
   ]
  },
  {
   "cell_type": "markdown",
   "id": "5429ad37",
   "metadata": {},
   "source": [
    "### 17. Write a Python program to print the index of the character in a string."
   ]
  },
  {
   "cell_type": "code",
   "execution_count": 37,
   "id": "9a69c109",
   "metadata": {},
   "outputs": [
    {
     "name": "stdout",
     "output_type": "stream",
     "text": [
      "Enter stringhellothere\n",
      "Character h at position 0\n",
      "Character e at position 1\n",
      "Character l at position 2\n",
      "Character l at position 2\n",
      "Character o at position 4\n",
      "Character t at position 5\n",
      "Character h at position 0\n",
      "Character e at position 1\n",
      "Character r at position 8\n",
      "Character e at position 1\n"
     ]
    }
   ],
   "source": [
    "u_str = input('Enter string')\n",
    "for char in u_str:\n",
    "    print(\"Character\", char, \"at position\", u_str.index(char))"
   ]
  },
  {
   "cell_type": "markdown",
   "id": "6dc741a6",
   "metadata": {},
   "source": [
    "### 18. Write a Python program to sum all the items in a list."
   ]
  },
  {
   "cell_type": "code",
   "execution_count": 40,
   "id": "10a91055",
   "metadata": {},
   "outputs": [
    {
     "name": "stdout",
     "output_type": "stream",
     "text": [
      "Enter numbers with spacing: 1 2 3 4 5 6 7 8 9\n",
      "45\n"
     ]
    }
   ],
   "source": [
    "user_input = input('Enter numbers with spacing: ')\n",
    "num_list = user_input.split()\n",
    "\n",
    "# Convert list values to decimal form\n",
    "for i in range(len(num_list)):\n",
    "    num_list[i] = float(num_list[i])\n",
    "    \n",
    "sumt = 0\n",
    "for num in num_list:\n",
    "    sumt = sumt + num\n",
    "\n",
    "print(int(sumt))"
   ]
  },
  {
   "cell_type": "markdown",
   "id": "0fc1551c",
   "metadata": {},
   "source": [
    "### 19. Write a Python program to get the largest number from a list."
   ]
  },
  {
   "cell_type": "code",
   "execution_count": 42,
   "id": "4cb5db75",
   "metadata": {},
   "outputs": [
    {
     "name": "stdout",
     "output_type": "stream",
     "text": [
      "Enter numbers with spacing: 12 89 23 78 34 67 45 56\n",
      "89\n"
     ]
    }
   ],
   "source": [
    "user_input = input('Enter numbers with spacing: ')\n",
    "num_list = user_input.split()\n",
    "\n",
    "# Convert list values to decimal form\n",
    "for i in range(len(num_list)):\n",
    "    num_list[i] = float(num_list[i])\n",
    "    \n",
    "num_list.sort()\n",
    "print(int(num_list[len(num_list) - 1]))"
   ]
  },
  {
   "cell_type": "markdown",
   "id": "b5759e60",
   "metadata": {},
   "source": [
    "### 20. Write a Python program to get the smallest number from a list."
   ]
  },
  {
   "cell_type": "code",
   "execution_count": 43,
   "id": "22cb156d",
   "metadata": {},
   "outputs": [
    {
     "name": "stdout",
     "output_type": "stream",
     "text": [
      "Enter numbers with spacing: 12 89 23 78 34 67 45 56\n",
      "12\n"
     ]
    }
   ],
   "source": [
    "user_input = input('Enter numbers with spacing: ')\n",
    "num_list = user_input.split()\n",
    "\n",
    "# Convert list values to decimal form\n",
    "for i in range(len(num_list)):\n",
    "    num_list[i] = float(num_list[i])\n",
    "    \n",
    "num_list.sort()\n",
    "print(int(num_list[0]))"
   ]
  },
  {
   "cell_type": "markdown",
   "id": "9130522f",
   "metadata": {},
   "source": [
    "### 21. Write a program to check if a list is empty or not."
   ]
  },
  {
   "cell_type": "code",
   "execution_count": 44,
   "id": "931dc345",
   "metadata": {},
   "outputs": [
    {
     "name": "stdout",
     "output_type": "stream",
     "text": [
      "List a is empty\n",
      "List b is not empty\n"
     ]
    }
   ],
   "source": [
    "list_a = []\n",
    "list_b = [1,2,3,4,5,6,7,8,9,0]\n",
    "\n",
    "if(len(list_a) == 0):\n",
    "    print('List a is empty')\n",
    "else:\n",
    "    print('List a is not empty')\n",
    "if(len(list_b) == 0):\n",
    "    print('List b is empty')\n",
    "else:\n",
    "    print('List b is not empty')"
   ]
  },
  {
   "cell_type": "markdown",
   "id": "75b03870",
   "metadata": {},
   "source": [
    "### 22. Write a program to clone or copy a list."
   ]
  },
  {
   "cell_type": "code",
   "execution_count": 45,
   "id": "5795ae9c",
   "metadata": {},
   "outputs": [
    {
     "name": "stdout",
     "output_type": "stream",
     "text": [
      "[1, 2, 3, 4, 5, 6, 7, 8, 9, 0]\n"
     ]
    }
   ],
   "source": [
    "list_a = []\n",
    "list_b = [1,2,3,4,5,6,7,8,9,0]\n",
    "\n",
    "list_a.extend(list_b)\n",
    "print(list_a)"
   ]
  },
  {
   "cell_type": "markdown",
   "id": "5d6a6744",
   "metadata": {},
   "source": [
    "### 23. Write a Python program to get unique values from a list"
   ]
  },
  {
   "cell_type": "code",
   "execution_count": 46,
   "id": "5abac439",
   "metadata": {},
   "outputs": [
    {
     "name": "stdout",
     "output_type": "stream",
     "text": [
      "1 2 2 2 3 3 4 5 5 5 5 5 6 7 7 8 9 9 9 9\n",
      "{1, 2, 3, 4, 5, 6, 7, 8, 9}\n"
     ]
    }
   ],
   "source": [
    "user_input = input().split()\n",
    "\n",
    "for i in range(len(user_input)):\n",
    "    user_input[i] = int(user_input[i])\n",
    "    \n",
    "def uniquel(user_input):\n",
    "    return set(user_input)\n",
    "\n",
    "print(uniquel(user_input))"
   ]
  },
  {
   "cell_type": "markdown",
   "id": "a46456d8",
   "metadata": {},
   "source": [
    "### 24. Write a Python script to add a key to a dictionary"
   ]
  },
  {
   "cell_type": "code",
   "execution_count": 47,
   "id": "08853ef2",
   "metadata": {},
   "outputs": [
    {
     "name": "stdout",
     "output_type": "stream",
     "text": [
      "{0: 0, 2: 4, 4: 8}\n",
      "{0: 0, 2: 4, 4: 8, 1: 2, 3: 6}\n"
     ]
    }
   ],
   "source": [
    "ex_d = {0: 0, 2: 4, 4: 8}\n",
    "print(ex_d)\n",
    "ex_d.update({1: 2, 3: 6})\n",
    "print(ex_d)"
   ]
  },
  {
   "cell_type": "markdown",
   "id": "0ad4ce75",
   "metadata": {},
   "source": [
    "### 25. Write a Python script to concatenate dictionaries to create a new one"
   ]
  },
  {
   "cell_type": "code",
   "execution_count": 48,
   "id": "7321627e",
   "metadata": {},
   "outputs": [
    {
     "name": "stdout",
     "output_type": "stream",
     "text": [
      "{1: 2, 4: 8, 2: 4, 5: 10, 3: 6, 6: 12}\n"
     ]
    }
   ],
   "source": [
    "d1 = {1: 2, 4: 8}\n",
    "d2 = {2: 4, 5: 10}\n",
    "d3 = {3: 6, 6: 12}\n",
    "d4 = {}\n",
    "for d in (d1, d2, d3):\n",
    "    d4.update(d)\n",
    "print(d4)"
   ]
  },
  {
   "cell_type": "markdown",
   "id": "a4c4cd9e",
   "metadata": {},
   "source": [
    "### 26. Write a Python script to check whether if a given key already exists in a dictionary"
   ]
  },
  {
   "cell_type": "code",
   "execution_count": 52,
   "id": "a7aa2e34",
   "metadata": {},
   "outputs": [
    {
     "name": "stdout",
     "output_type": "stream",
     "text": [
      "Enter key to check: 2\n",
      "4\n"
     ]
    }
   ],
   "source": [
    "d = {1: 2, 2: 4, 3: 6, 4: 8, 5: 10, 6: 12}\n",
    "key_c = int(input('Enter key to check: '))\n",
    "if key_c in d.keys():\n",
    "    print(d[key_c])\n",
    "else:\n",
    "    print('Key not present')"
   ]
  },
  {
   "cell_type": "markdown",
   "id": "db5b0986",
   "metadata": {},
   "source": [
    "### 27. Write a Python program to iterate over dictionaries using for loops"
   ]
  },
  {
   "cell_type": "code",
   "execution_count": 53,
   "id": "1ae3c2a8",
   "metadata": {},
   "outputs": [
    {
     "name": "stdout",
     "output_type": "stream",
     "text": [
      "1 2\n",
      "2 4\n",
      "3 6\n",
      "4 8\n",
      "5 10\n",
      "6 12\n",
      "\n",
      "1 2\n",
      "2 4\n",
      "3 6\n",
      "4 8\n",
      "5 10\n",
      "6 12\n"
     ]
    }
   ],
   "source": [
    "d = {1: 2, 2: 4, 3: 6, 4: 8, 5: 10, 6: 12}\n",
    "for key, value in d.items():\n",
    "    print(key, value)\n",
    "print()\n",
    "for key in d:\n",
    "    print(key, d[key])"
   ]
  },
  {
   "cell_type": "markdown",
   "id": "887d56f5",
   "metadata": {},
   "source": [
    "### 28. Write a Python program to remove a key from a dictionary"
   ]
  },
  {
   "cell_type": "code",
   "execution_count": 54,
   "id": "ac579787",
   "metadata": {},
   "outputs": [
    {
     "name": "stdout",
     "output_type": "stream",
     "text": [
      "{1: 2, 2: 4, 3: 6, 4: 8, 5: 10, 6: 12}\n",
      "{1: 2, 2: 4, 4: 8, 5: 10, 6: 12}\n"
     ]
    }
   ],
   "source": [
    "d = {1: 2, 2: 4, 3: 6, 4: 8, 5: 10, 6: 12}\n",
    "print(d)\n",
    "if 3 in d:\n",
    "    del d[3]\n",
    "print(d)"
   ]
  },
  {
   "cell_type": "markdown",
   "id": "5c0f5502",
   "metadata": {},
   "source": [
    "### 29. Write a Python program to map two lists into a dictionary"
   ]
  },
  {
   "cell_type": "code",
   "execution_count": 55,
   "id": "a0a49ea5",
   "metadata": {},
   "outputs": [
    {
     "name": "stdout",
     "output_type": "stream",
     "text": [
      "{1: 2, 2: 4, 3: 6, 4: 8, 5: 10, 6: 12}\n"
     ]
    }
   ],
   "source": [
    "key_l = [1, 2, 3, 4, 5, 6]\n",
    "value_l = [2, 4, 6, 8, 10, 12]\n",
    "d = dict(zip(key_l, value_l))\n",
    "print(d)"
   ]
  },
  {
   "cell_type": "markdown",
   "id": "c4236d17",
   "metadata": {},
   "source": [
    "### 30. Write a Python program to get the top three items in a shop."
   ]
  },
  {
   "cell_type": "code",
   "execution_count": 62,
   "id": "11924c23",
   "metadata": {},
   "outputs": [
    {
     "name": "stdout",
     "output_type": "stream",
     "text": [
      "item3 41.3\n",
      "item1 45.5\n",
      "item4 55\n"
     ]
    }
   ],
   "source": [
    "d = {'item1': 45.5, 'item2': 35, 'item3': 41.3, 'item4': 55, 'item5': 24}\n",
    "sorted_d = {key: value for key, value in sorted(d.items(), key = lambda item: item[1])}\n",
    "c = 0\n",
    "for key, value in sorted_d.items():\n",
    "    if c >= len(sorted_d) - 3:\n",
    "        print(key, value)\n",
    "    c = c + 1"
   ]
  },
  {
   "cell_type": "markdown",
   "id": "807577e4",
   "metadata": {},
   "source": [
    "### 31. Write a Python program to convert a tuple to a string"
   ]
  },
  {
   "cell_type": "code",
   "execution_count": 64,
   "id": "53e024aa",
   "metadata": {},
   "outputs": [
    {
     "name": "stdout",
     "output_type": "stream",
     "text": [
      "Enter char with spacingh e l l o w o r l d\n",
      "helloworld\n"
     ]
    }
   ],
   "source": [
    "in_t = tuple(input('Enter char with spacing: ').split())\n",
    "\n",
    "def tup2str(int_t):\n",
    "    str = ''\n",
    "    for item in in_t:\n",
    "        str = str + item\n",
    "    return str\n",
    "\n",
    "t_s = tup2str(in_t)\n",
    "print(t_s)"
   ]
  },
  {
   "cell_type": "markdown",
   "id": "7abbcdac",
   "metadata": {},
   "source": [
    "### 32. Write a Python program to find length of a tuple. Also, remove an item from a tuple."
   ]
  },
  {
   "cell_type": "code",
   "execution_count": 67,
   "id": "d6f74eb7",
   "metadata": {},
   "outputs": [
    {
     "name": "stdout",
     "output_type": "stream",
     "text": [
      "9\n",
      "(1, 2, 4, 5, 6, 7, 8, 9)\n"
     ]
    }
   ],
   "source": [
    "t = tuple([1,2,3,4,5,6,7,8,9])\n",
    "print(len(t))\n",
    "\n",
    "t2 = t[:2] + t[3:]\n",
    "print(t2)"
   ]
  },
  {
   "cell_type": "markdown",
   "id": "78d9dd98",
   "metadata": {},
   "source": [
    "### 33. Write a Python program to reverse a tuple."
   ]
  },
  {
   "cell_type": "code",
   "execution_count": 68,
   "id": "30f67f49",
   "metadata": {},
   "outputs": [
    {
     "name": "stdout",
     "output_type": "stream",
     "text": [
      "(9, 8, 7, 6, 5, 4, 3, 2, 1)\n"
     ]
    }
   ],
   "source": [
    "t = tuple([1,2,3,4,5,6,7,8,9])\n",
    "\n",
    "def revtup(t):\n",
    "    return t[::-1]\n",
    "\n",
    "print(revtup(t))"
   ]
  },
  {
   "cell_type": "markdown",
   "id": "c63307de",
   "metadata": {},
   "source": [
    "### 34. Write a Python program to print a tuple with string formatting"
   ]
  },
  {
   "cell_type": "code",
   "execution_count": 69,
   "id": "0490a62f",
   "metadata": {},
   "outputs": [
    {
     "name": "stdout",
     "output_type": "stream",
     "text": [
      "This is a tuple: (1, 2, 3, 4, 5, 6, 7, 8, 9)\n"
     ]
    }
   ],
   "source": [
    "t = tuple([1,2,3,4,5,6,7,8,9])\n",
    "print('This is a tuple: {0}'.format(t))"
   ]
  },
  {
   "cell_type": "markdown",
   "id": "82431fda",
   "metadata": {},
   "source": [
    "### 35. Write a Python program to create a set. Also, remove an item from a set if it is present in the set."
   ]
  },
  {
   "cell_type": "code",
   "execution_count": 70,
   "id": "a06ddfba",
   "metadata": {},
   "outputs": [
    {
     "name": "stdout",
     "output_type": "stream",
     "text": [
      "{1, 2, 4, 5, 6, 7, 8, 9}\n"
     ]
    }
   ],
   "source": [
    "set_l = set([1,2,3,4,5,6,7,8,9])\n",
    "if 3 in set_l:\n",
    "    set_l.remove(3)\n",
    "print(set_l)"
   ]
  },
  {
   "cell_type": "markdown",
   "id": "1b45ea2f",
   "metadata": {},
   "source": [
    "### 36. Write a Python program to find the maximum and minimum value in a set"
   ]
  },
  {
   "cell_type": "code",
   "execution_count": 71,
   "id": "565bf191",
   "metadata": {},
   "outputs": [
    {
     "name": "stdout",
     "output_type": "stream",
     "text": [
      "9\n",
      "1\n"
     ]
    }
   ],
   "source": [
    "set_l = set([9,1,8,2,7,3,6,4,5])\n",
    "print(max(set_l))\n",
    "print(min(set_l))"
   ]
  }
 ],
 "metadata": {
  "kernelspec": {
   "display_name": "Python 3 (ipykernel)",
   "language": "python",
   "name": "python3"
  },
  "language_info": {
   "codemirror_mode": {
    "name": "ipython",
    "version": 3
   },
   "file_extension": ".py",
   "mimetype": "text/x-python",
   "name": "python",
   "nbconvert_exporter": "python",
   "pygments_lexer": "ipython3",
   "version": "3.9.12"
  }
 },
 "nbformat": 4,
 "nbformat_minor": 5
}
