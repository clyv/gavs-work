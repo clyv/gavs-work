{
 "cells": [
  {
   "cell_type": "markdown",
   "id": "e089b19e",
   "metadata": {},
   "source": [
    "# Problem 1\n",
    "### Write a Python function to find the Max of three numbers. "
   ]
  },
  {
   "cell_type": "code",
   "execution_count": 1,
   "id": "f6fc5940",
   "metadata": {},
   "outputs": [
    {
     "name": "stdout",
     "output_type": "stream",
     "text": [
      "Enter first number:4\n",
      "Enter second number:6\n",
      "Enter third number:5\n",
      "6\n"
     ]
    }
   ],
   "source": [
    "a = int(input('Enter first number:'))\n",
    "b = int(input('Enter second number:'))\n",
    "c = int(input('Enter third number:'))\n",
    "def findmax(a, b, c):\n",
    "    if a > b:\n",
    "        if a > c:\n",
    "            return a # as a > b and a > c\n",
    "        else:\n",
    "            return c # as c > a > b\n",
    "    else:\n",
    "        if b > c:\n",
    "            return b # as b > a and b > c\n",
    "        else:\n",
    "            return c # as c > b > a\n",
    "        \n",
    "print(findmax(a,b,c))"
   ]
  },
  {
   "cell_type": "markdown",
   "id": "7930c0e7",
   "metadata": {},
   "source": [
    "# Problem 2\n",
    "### Write a Python function to multiply all the numbers in a list.\n",
    "### Sample List : (8, 2, 3, -1, 7)<br>Expected Output : -336 "
   ]
  },
  {
   "cell_type": "code",
   "execution_count": 2,
   "id": "07853730",
   "metadata": {},
   "outputs": [
    {
     "name": "stdout",
     "output_type": "stream",
     "text": [
      "8 2 3 -1 7\n",
      "-336\n"
     ]
    }
   ],
   "source": [
    "user_input = input().split()\n",
    "\n",
    "for i in range(len(user_input)):\n",
    "    user_input[i] = int(user_input[i]) # converting input to numerical form\n",
    "\n",
    "mult = 1\n",
    "for i in user_input:\n",
    "    mult = mult * i\n",
    "    \n",
    "print(mult)"
   ]
  },
  {
   "cell_type": "markdown",
   "id": "c10a0342",
   "metadata": {},
   "source": [
    "# Problem 3\n",
    "### Write a Python function that accepts a string and calculate the number of upper case letters and lower case letters. \n",
    "### Sample String : 'The quick Brow Fox'<br>Expected Output :<br>No. of Upper case characters : 3<br>No. of Lower case Characters : 12 "
   ]
  },
  {
   "cell_type": "code",
   "execution_count": null,
   "id": "7b8cee28",
   "metadata": {},
   "outputs": [],
   "source": [
    "inp = input('Enter a string:')\n",
    "lc = 0\n",
    "uc = 0\n",
    "for i in inp:\n",
    "    if i >= 'A' and i <= 'Z':\n",
    "        uc = uc + 1\n",
    "    elif i >= 'a' and i <= 'z':\n",
    "        lc = lc + 1\n",
    "\n",
    "print('No. of upper case characters:', uc)\n",
    "print('No. of lower case characters:', lc)"
   ]
  },
  {
   "cell_type": "markdown",
   "id": "3601268a",
   "metadata": {},
   "source": [
    "# Problem 4\n",
    "### Write a Python function that takes a list and returns a new list with unique elements of the first list.\n",
    "### Sample List : [1,2,3,3,3,3,4,5]<br>Unique List : [1, 2, 3, 4, 5]"
   ]
  },
  {
   "cell_type": "code",
   "execution_count": null,
   "id": "596738bc",
   "metadata": {},
   "outputs": [],
   "source": [
    "user_input = input().split()\n",
    "\n",
    "for i in range(len(user_input)):\n",
    "    user_input[i] = int(user_input[i])\n",
    "    \n",
    "def uniquel(user_input):\n",
    "    return set(user_input)\n",
    "\n",
    "print(uniquel(user_input))"
   ]
  },
  {
   "cell_type": "markdown",
   "id": "dc9ae529",
   "metadata": {},
   "source": [
    "# Problem 5\n",
    "### Write a Python function that checks whether a passed string is palindrome or not. "
   ]
  },
  {
   "cell_type": "code",
   "execution_count": null,
   "id": "e938e06b",
   "metadata": {},
   "outputs": [],
   "source": [
    "user = input('Enter string:')\n",
    "\n",
    "def pallin(user):\n",
    "    return user == user[::-1]\n",
    "\n",
    "if pallin(user):\n",
    "    print('Pallindrome')\n",
    "else:\n",
    "    print('Not a Pallindrome')"
   ]
  },
  {
   "cell_type": "markdown",
   "id": "11ab8aca",
   "metadata": {},
   "source": [
    "# Problem 6\n",
    "### Write a Python function to check whether a string is a pangram or not."
   ]
  },
  {
   "cell_type": "code",
   "execution_count": null,
   "id": "eb22501e",
   "metadata": {},
   "outputs": [],
   "source": [
    "user = input('Enter string:')\n",
    "\n",
    "def pang(user):\n",
    "    alphabet = 'abcdefghijklmnopqrstuvwxyz'\n",
    "    for char in alphabet:\n",
    "        if char not in user.lower():\n",
    "            return False\n",
    "        return True\n",
    "    \n",
    "if pang(user) == True:\n",
    "    print('Pangram')\n",
    "else:\n",
    "    print('Not a Pangram')"
   ]
  },
  {
   "cell_type": "markdown",
   "id": "a2984bab",
   "metadata": {},
   "source": [
    "# Problem 7\n",
    "### Write a Python function that accepts a hyphen-separated sequence of words as input and prints the words in a hyphen-separated sequence after sorting them alphabetically. \n",
    "### Sample Items : green-red-yellow-black-white<br>Expected Result : black-green-red-white-yellow "
   ]
  },
  {
   "cell_type": "code",
   "execution_count": null,
   "id": "687ab57b",
   "metadata": {},
   "outputs": [],
   "source": [
    "color_list=input().split('-')\n",
    "\n",
    "def sortprint(color_list):\n",
    "    color_list.sort() # alphabetical sorting\n",
    "    print(*color_list, sep = '-')\n",
    "    \n",
    "sortprint(color_list)"
   ]
  },
  {
   "cell_type": "markdown",
   "id": "f1d1d992",
   "metadata": {},
   "source": [
    "# Problem 8\n",
    "### Write a Python program to find those numbers which are divisible by 7 and multiple of 5, between 1500 and 2700 "
   ]
  },
  {
   "cell_type": "code",
   "execution_count": null,
   "id": "afddf2e4",
   "metadata": {},
   "outputs": [],
   "source": [
    "for i in range(1500, 2701):\n",
    "    if (i % 7) == 0:\n",
    "        if(i % 5) == 0:\n",
    "            print(i)"
   ]
  },
  {
   "cell_type": "markdown",
   "id": "9c5b3059",
   "metadata": {},
   "source": [
    "# Problem 9\n",
    "### Write a Python program to guess a number between 1 to 9. \n",
    "### Note : User is prompted to enter a guess. If the user guesses wrong then the prompt appears again until the guess is correct, on successful guess, user will get a \"Well guessed!\" message, and the program will exit."
   ]
  },
  {
   "cell_type": "code",
   "execution_count": null,
   "id": "ce264ead",
   "metadata": {},
   "outputs": [],
   "source": [
    "import random\n",
    "number = random.randint(1,9)\n",
    "guess = False\n",
    "while guess == False:\n",
    "    num = int(input('Guess a number'))\n",
    "    if num == guess:\n",
    "        print('Well guessed!')\n",
    "        guess = True"
   ]
  },
  {
   "cell_type": "markdown",
   "id": "33fe71d4",
   "metadata": {},
   "source": [
    "# Problem 10\n",
    "### Write a Python program to construct the given pattern, using a nested for loop. "
   ]
  },
  {
   "cell_type": "code",
   "execution_count": null,
   "id": "945d0837",
   "metadata": {},
   "outputs": [],
   "source": [
    "n = 5\n",
    "for i in range(0,n):\n",
    "    for j in range(0,i+1): # loop for creating top half of pattern\n",
    "        print(\"* \", end=\"\")\n",
    "    print(\"\\n\")\n",
    "for i in range(n - 1, 0, -1):\n",
    "    for j in range(0, i): # loop for creating bottom half of pattern\n",
    "        print(\"* \", end=\"\")\n",
    "    print(\"\\n\")"
   ]
  },
  {
   "cell_type": "markdown",
   "id": "a9f60537",
   "metadata": {},
   "source": [
    "# Problem 11\n",
    "### Write a Python program that prints all the numbers from 0 to 6 except 3 and 6\n",
    "### Note : Use 'continue' statement. "
   ]
  },
  {
   "cell_type": "code",
   "execution_count": null,
   "id": "86d8ec0e",
   "metadata": {},
   "outputs": [],
   "source": [
    "for i in range(0,7):\n",
    "    if(i % 3) == 0:\n",
    "        continue\n",
    "    else:\n",
    "        print(i, end = \" \")"
   ]
  },
  {
   "cell_type": "markdown",
   "id": "9efbfdeb",
   "metadata": {},
   "source": [
    "# Problem 12\n",
    "### Write a Python program to get the Fibonacci series between 0 to 50.  \n"
   ]
  },
  {
   "cell_type": "code",
   "execution_count": null,
   "id": "6b046e1d",
   "metadata": {},
   "outputs": [],
   "source": [
    "a = 0\n",
    "b = 1\n",
    "print(a)\n",
    "print(b)\n",
    "c = a + b\n",
    "print(c)\n",
    "while c < 30:\n",
    "    a = b\n",
    "    b = c\n",
    "    c = a + b\n",
    "    print(c)"
   ]
  },
  {
   "cell_type": "markdown",
   "id": "6ed266c1",
   "metadata": {},
   "source": [
    "# Problem 13\n",
    "### Write a Python program which accepts a sequence of comma separated 4 digit binary numbers as its input and print the numbers that are divisible by 5 in a comma separated sequence. "
   ]
  },
  {
   "cell_type": "code",
   "execution_count": null,
   "id": "3ca56fcd",
   "metadata": {},
   "outputs": [],
   "source": [
    "inp = input('Enter binary numbers with spacing: ').split()\n",
    "def BinToDec(value): # function converts input to decimal value\n",
    "    return int(value, 2)\n",
    "for num in inp:\n",
    "    if (BinToDec(num) % 5) == 0:\n",
    "        print(num)"
   ]
  },
  {
   "cell_type": "markdown",
   "id": "a06c6d5f",
   "metadata": {},
   "source": [
    "# Problem 14\n",
    "### Write a Python program to check the validity of password input by users. \n",
    "### Validation:<br>At least 1 letter between [a-z] and 1 letter between [A-Z].<br>At least 1 number between [0-9]<br>At least 1 character from [$#@]\n",
    "### Minimum length 6 characters<br>Maximum length 16 characters "
   ]
  },
  {
   "cell_type": "code",
   "execution_count": null,
   "id": "0ec045cf",
   "metadata": {},
   "outputs": [],
   "source": [
    "passw = input('Enter password:')\n",
    "if len(passw) < 6:\n",
    "    print('Password too short')\n",
    "elif len(passw) > 16:\n",
    "    print('Password too long')\n",
    "elif not any(x.isupper() for x in passw):\n",
    "    print('Password must contain at least 1 upper case letter')\n",
    "elif not any(x.islower() for x in passw):\n",
    "    print('Password must contain at least 1 lower case letter')\n",
    "elif not any(x.isdigit() for x in passw):\n",
    "    print('Password must contain at least 1 number')\n",
    "elif '$' in passw or '#' in passw or '@' in passw:\n",
    "    print('Password validated')\n",
    "else:\n",
    "    print('Password must contain at least $ or # or @')\n"
   ]
  },
  {
   "cell_type": "markdown",
   "id": "1b8eea9f",
   "metadata": {},
   "source": [
    "# Problem 15\n",
    "### Write a Python program to print alphabet pattern 'A'. "
   ]
  },
  {
   "cell_type": "code",
   "execution_count": null,
   "id": "fabef704",
   "metadata": {},
   "outputs": [],
   "source": [
    "for i in range(1,8):\n",
    "    if i == 1 or i == 4:\n",
    "        for j in range(1, 6):\n",
    "            print(\"* \", end=\"\")\n",
    "    if i == 2 or i == 3 or i == 5 or i == 6 or i == 7:\n",
    "        for j in range(1, 6):\n",
    "            if j == 1 or j == 5:\n",
    "                print(\"*    \", end=\"\")\n",
    "            else:\n",
    "                print(\" \", end=\"\")\n",
    "    print()"
   ]
  },
  {
   "cell_type": "markdown",
   "id": "fe4dccb1",
   "metadata": {},
   "source": [
    "# Problem 16\n",
    "### Write a Python program to check whether an alphabet is a vowel or consonant. \n",
    "### Expected Output: \n",
    "### Input a letter of the alphabet: k \n",
    "### k is a consonant. "
   ]
  },
  {
   "cell_type": "code",
   "execution_count": null,
   "id": "3ed47492",
   "metadata": {},
   "outputs": [],
   "source": [
    "user=input('Enter an alphabet:')\n",
    "vowel = False\n",
    "if user == 'a' or user == 'e' or user == 'i' or user == 'o' or user == 'u':\n",
    "    vowel = True\n",
    "\n",
    "if vowel:\n",
    "    print(user + ' is a vowel')\n",
    "else:\n",
    "    print(user + ' is a consonant')"
   ]
  },
  {
   "cell_type": "markdown",
   "id": "fb19e542",
   "metadata": {},
   "source": [
    "# Problem 17\n",
    "### Write a Python program to convert month name to number of days. \n",
    "### Expected Output: List of months: January, February, March, April, May, June, July, August , September, October, November, December \n",
    "### Input the name of Month: February \n",
    "### No. of days: 28/29 days"
   ]
  },
  {
   "cell_type": "code",
   "execution_count": null,
   "id": "1a8e2410",
   "metadata": {},
   "outputs": [],
   "source": [
    "user = input('Enter a month:')\n",
    "if user == 'January' or user == 'March' or user == 'May' or user == 'July' or user == 'August' or user == 'October' or user == 'December':\n",
    "    print('No. of days: 31 days')\n",
    "elif user == 'April' or user == 'June' or user == 'September' or user == 'November':\n",
    "    print('No. of days: 30 days')\n",
    "elif user == 'February':\n",
    "    print('No. of days: 28/29 days')"
   ]
  },
  {
   "cell_type": "markdown",
   "id": "21a9c5f7",
   "metadata": {},
   "source": [
    "# Problem 18\n",
    "### Write a Python program to create the multiplication table (from 1 to 10) of a number."
   ]
  },
  {
   "cell_type": "code",
   "execution_count": null,
   "id": "fa04432a",
   "metadata": {},
   "outputs": [],
   "source": [
    "user = int(input('Enter a number: '))\n",
    "for count in range(1, 11):      \n",
    "   print(user, 'x', count, '=', user * count)  "
   ]
  },
  {
   "cell_type": "markdown",
   "id": "f2e4886c",
   "metadata": {},
   "source": [
    "# Problem 19\n",
    "### Write a Python program to construct the following pattern, using a nested loop number.  \n",
    "### Expected Output:<br>1<br>22<br>333<br>4444<br>55555<br>666666<br>7777777<br>88888888<br>999999999"
   ]
  },
  {
   "cell_type": "code",
   "execution_count": null,
   "id": "0728f3fd",
   "metadata": {},
   "outputs": [],
   "source": [
    "for i in range(1,10):\n",
    "    for j in range(0,i):\n",
    "        print(i, end =\"\")\n",
    "    print()"
   ]
  },
  {
   "cell_type": "markdown",
   "id": "187691ac",
   "metadata": {},
   "source": [
    "# Problem 20\n",
    "### Write a Python program which takes two digits m (row) and n (column) as input and generates a two-dimensional array. The element value in the i-th row and j-th column of the array should be i*j. "
   ]
  },
  {
   "cell_type": "code",
   "execution_count": null,
   "id": "78cdbc4f",
   "metadata": {},
   "outputs": [],
   "source": [
    "m = int(input('Enter number of rows:'))\n",
    "n = int(input('Enter number of columns:'))\n",
    "d2_arr = []\n",
    "for i in range(m):\n",
    "    temp = [] # create temporary array to store values\n",
    "    for j in range(n):\n",
    "        temp.append(i * j)\n",
    "    d2_arr.append(temp) # append array to matrix\n",
    "    \n",
    "for i in range(m):\n",
    "    for j in range(n):\n",
    "        print(d2_arr[i][j], end = \" \")\n",
    "    print()"
   ]
  }
 ],
 "metadata": {
  "kernelspec": {
   "display_name": "Python 3 (ipykernel)",
   "language": "python",
   "name": "python3"
  },
  "language_info": {
   "codemirror_mode": {
    "name": "ipython",
    "version": 3
   },
   "file_extension": ".py",
   "mimetype": "text/x-python",
   "name": "python",
   "nbconvert_exporter": "python",
   "pygments_lexer": "ipython3",
   "version": "3.9.12"
  }
 },
 "nbformat": 4,
 "nbformat_minor": 5
}
