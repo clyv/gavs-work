{
 "cells": [
  {
   "cell_type": "code",
   "execution_count": 2,
   "id": "fe8701fe",
   "metadata": {},
   "outputs": [],
   "source": [
    "def countLines(fp):\n",
    "    for count, line in enumerate(fp):\n",
    "        pass\n",
    "    return (count + 1)"
   ]
  },
  {
   "cell_type": "code",
   "execution_count": 2,
   "id": "a030855e",
   "metadata": {},
   "outputs": [],
   "source": [
    "import os\n",
    "def countWords(fp):\n",
    "    num_words = 0\n",
    "    for line in fp:\n",
    "        line = line.strip(os.linesep)\n",
    "        wordlist = line.split()\n",
    "        num_words = num_words + len(wordlist)\n",
    "    return num_words"
   ]
  },
  {
   "cell_type": "code",
   "execution_count": 4,
   "id": "a4cbdddf",
   "metadata": {},
   "outputs": [],
   "source": [
    "import os\n",
    "def countChars(fp):\n",
    "    num_char = 0\n",
    "    for line in fp:\n",
    "        line = line.strip(os.linesep)\n",
    "        wordlist = line.split()\n",
    "        num_char = num_char + sum(1 for c in line if c not in (os.linesep, ' '))\n",
    "    return num_char"
   ]
  }
 ],
 "metadata": {
  "kernelspec": {
   "display_name": "Python 3 (ipykernel)",
   "language": "python",
   "name": "python3"
  },
  "language_info": {
   "codemirror_mode": {
    "name": "ipython",
    "version": 3
   },
   "file_extension": ".py",
   "mimetype": "text/x-python",
   "name": "python",
   "nbconvert_exporter": "python",
   "pygments_lexer": "ipython3",
   "version": "3.9.12"
  }
 },
 "nbformat": 4,
 "nbformat_minor": 5
}
