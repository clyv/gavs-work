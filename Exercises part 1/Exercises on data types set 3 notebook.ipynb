{
 "cells": [
  {
   "cell_type": "markdown",
   "id": "574021ac",
   "metadata": {},
   "source": [
    "# Problem 1\n",
    "### have a list of numbers starting from 1 to 100.have a second list containing numbers starting from 100 to 200.<br>merge two list and make a combined list. \n",
    "### filter out odd and even numbers from combined list and create a odd_numbers list and even_numbers list separately"
   ]
  },
  {
   "cell_type": "code",
   "execution_count": 1,
   "id": "26ca4922",
   "metadata": {},
   "outputs": [
    {
     "name": "stdout",
     "output_type": "stream",
     "text": [
      "[1, 2, 3, 4, 5, 6, 7, 8, 9, 10, 11, 12, 13, 14, 15, 16, 17, 18, 19, 20, 21, 22, 23, 24, 25, 26, 27, 28, 29, 30, 31, 32, 33, 34, 35, 36, 37, 38, 39, 40, 41, 42, 43, 44, 45, 46, 47, 48, 49, 50, 51, 52, 53, 54, 55, 56, 57, 58, 59, 60, 61, 62, 63, 64, 65, 66, 67, 68, 69, 70, 71, 72, 73, 74, 75, 76, 77, 78, 79, 80, 81, 82, 83, 84, 85, 86, 87, 88, 89, 90, 91, 92, 93, 94, 95, 96, 97, 98, 99, 100, 101, 102, 103, 104, 105, 106, 107, 108, 109, 110, 111, 112, 113, 114, 115, 116, 117, 118, 119, 120, 121, 122, 123, 124, 125, 126, 127, 128, 129, 130, 131, 132, 133, 134, 135, 136, 137, 138, 139, 140, 141, 142, 143, 144, 145, 146, 147, 148, 149, 150, 151, 152, 153, 154, 155, 156, 157, 158, 159, 160, 161, 162, 163, 164, 165, 166, 167, 168, 169, 170, 171, 172, 173, 174, 175, 176, 177, 178, 179, 180, 181, 182, 183, 184, 185, 186, 187, 188, 189, 190, 191, 192, 193, 194, 195, 196, 197, 198, 199, 200]\n",
      "[1, 3, 5, 7, 9, 11, 13, 15, 17, 19, 21, 23, 25, 27, 29, 31, 33, 35, 37, 39, 41, 43, 45, 47, 49, 51, 53, 55, 57, 59, 61, 63, 65, 67, 69, 71, 73, 75, 77, 79, 81, 83, 85, 87, 89, 91, 93, 95, 97, 99, 101, 103, 105, 107, 109, 111, 113, 115, 117, 119, 121, 123, 125, 127, 129, 131, 133, 135, 137, 139, 141, 143, 145, 147, 149, 151, 153, 155, 157, 159, 161, 163, 165, 167, 169, 171, 173, 175, 177, 179, 181, 183, 185, 187, 189, 191, 193, 195, 197, 199]\n",
      "[2, 4, 6, 8, 10, 12, 14, 16, 18, 20, 22, 24, 26, 28, 30, 32, 34, 36, 38, 40, 42, 44, 46, 48, 50, 52, 54, 56, 58, 60, 62, 64, 66, 68, 70, 72, 74, 76, 78, 80, 82, 84, 86, 88, 90, 92, 94, 96, 98, 100, 102, 104, 106, 108, 110, 112, 114, 116, 118, 120, 122, 124, 126, 128, 130, 132, 134, 136, 138, 140, 142, 144, 146, 148, 150, 152, 154, 156, 158, 160, 162, 164, 166, 168, 170, 172, 174, 176, 178, 180, 182, 184, 186, 188, 190, 192, 194, 196, 198, 200]\n"
     ]
    }
   ],
   "source": [
    "firstl = []\n",
    "secondl = []\n",
    "for i in range(1,101):\n",
    "    firstl.append(i)\n",
    "for i in range(101,201):\n",
    "    secondl.append(i)\n",
    "firstl.extend(secondl)\n",
    "print(firstl)\n",
    "\n",
    "oddl = []\n",
    "evenl = []\n",
    "for i in firstl:\n",
    "    if i%2 == 0:\n",
    "        evenl.append(i)\n",
    "    else:\n",
    "        oddl.append(i)\n",
    "\n",
    "print(oddl)\n",
    "print(evenl)"
   ]
  },
  {
   "cell_type": "markdown",
   "id": "a10ea653",
   "metadata": {},
   "source": [
    "# Problem 2\n",
    "### let a list have all the first 10 alphabetic characters as 10 elements. randomly select any one character from list using random method we covered on day 1. <br>if the randomly selected character is a 'z' , then, print the message 'z is picked from the set' else print 'no,its not picked' "
   ]
  },
  {
   "cell_type": "code",
   "execution_count": 2,
   "id": "ae4c0883",
   "metadata": {},
   "outputs": [
    {
     "name": "stdout",
     "output_type": "stream",
     "text": [
      "no, z is not picked\n"
     ]
    }
   ],
   "source": [
    "import random\n",
    "\n",
    "alph_list = ['a', 'b', 'c', 'd', 'e', 'f', 'g', 'h', 'i', 'j']\n",
    "character = random.choice(alph_list)\n",
    "if character == 'z':\n",
    "    print('z is picked from the set')\n",
    "else:\n",
    "    print('no, z is not picked')"
   ]
  },
  {
   "cell_type": "markdown",
   "id": "ae5cbed1",
   "metadata": {},
   "source": [
    "# Problem 3\n",
    "### get your empid and name as input from console. e:g: 101 Python or 102 Java - your empid and name should be separated by a space.<br>everytime you get the input,do the below validations. check if the input string has a space, if so, split the string and assign to empid and name variables.<br>the empid should not not be more than 3 chars and name should not exceed 10 chars. if not,print appropriate messages. \n",
    "### remove the leading and trialing space in both name and empid string. \n",
    "### get the position of character 'z' in name string . if not found, concatenate your string with a 'z' and print the concatenated name. "
   ]
  },
  {
   "cell_type": "code",
   "execution_count": 3,
   "id": "d7a408df",
   "metadata": {},
   "outputs": [
    {
     "name": "stdout",
     "output_type": "stream",
     "text": [
      "Enter empid and name: 101 dave\n",
      "davez\n"
     ]
    }
   ],
   "source": [
    "user_inp = input('Enter empid and name: ').split()\n",
    "empid = user_inp[0]\n",
    "name = user_inp[1]\n",
    "if len(empid) > 3:\n",
    "    print('Wrong empid')\n",
    "elif len(name) > 10:\n",
    "    print('Name too long')\n",
    "empid.strip()\n",
    "name.strip()\n",
    "\n",
    "if name.find('z')  == -1:\n",
    "    name = name + 'z'\n",
    "    print(name)\n",
    "else:\n",
    "    print(name.find('z'))"
   ]
  }
 ],
 "metadata": {
  "kernelspec": {
   "display_name": "Python 3 (ipykernel)",
   "language": "python",
   "name": "python3"
  },
  "language_info": {
   "codemirror_mode": {
    "name": "ipython",
    "version": 3
   },
   "file_extension": ".py",
   "mimetype": "text/x-python",
   "name": "python",
   "nbconvert_exporter": "python",
   "pygments_lexer": "ipython3",
   "version": "3.9.12"
  }
 },
 "nbformat": 4,
 "nbformat_minor": 5
}
