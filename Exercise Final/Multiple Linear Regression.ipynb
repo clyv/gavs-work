{
 "cells": [
  {
   "cell_type": "markdown",
   "id": "ec51deea",
   "metadata": {},
   "source": [
    "### Importing libraries"
   ]
  },
  {
   "cell_type": "code",
   "execution_count": 1,
   "id": "6e5f1c38",
   "metadata": {},
   "outputs": [],
   "source": [
    "import numpy as np\n",
    "import pandas as pd\n",
    "import matplotlib.pyplot as plt\n",
    "import seaborn as sns\n",
    "import matplotlib as mpl\n",
    "import matplotlib"
   ]
  },
  {
   "cell_type": "markdown",
   "id": "31be8db5",
   "metadata": {},
   "source": [
    "### Reading the csv file"
   ]
  },
  {
   "cell_type": "code",
   "execution_count": 2,
   "id": "bfd0adad",
   "metadata": {},
   "outputs": [
    {
     "data": {
      "text/html": [
       "<div>\n",
       "<style scoped>\n",
       "    .dataframe tbody tr th:only-of-type {\n",
       "        vertical-align: middle;\n",
       "    }\n",
       "\n",
       "    .dataframe tbody tr th {\n",
       "        vertical-align: top;\n",
       "    }\n",
       "\n",
       "    .dataframe thead th {\n",
       "        text-align: right;\n",
       "    }\n",
       "</style>\n",
       "<table border=\"1\" class=\"dataframe\">\n",
       "  <thead>\n",
       "    <tr style=\"text-align: right;\">\n",
       "      <th></th>\n",
       "      <th>age</th>\n",
       "      <th>sex</th>\n",
       "      <th>bmi</th>\n",
       "      <th>children</th>\n",
       "      <th>smoker</th>\n",
       "      <th>region</th>\n",
       "      <th>charges</th>\n",
       "    </tr>\n",
       "  </thead>\n",
       "  <tbody>\n",
       "    <tr>\n",
       "      <th>0</th>\n",
       "      <td>19.0</td>\n",
       "      <td>1</td>\n",
       "      <td>27.900</td>\n",
       "      <td>0.0</td>\n",
       "      <td>0</td>\n",
       "      <td>0</td>\n",
       "      <td>16884.92400</td>\n",
       "    </tr>\n",
       "    <tr>\n",
       "      <th>1</th>\n",
       "      <td>18.0</td>\n",
       "      <td>0</td>\n",
       "      <td>33.770</td>\n",
       "      <td>1.0</td>\n",
       "      <td>1</td>\n",
       "      <td>3</td>\n",
       "      <td>1725.55230</td>\n",
       "    </tr>\n",
       "    <tr>\n",
       "      <th>2</th>\n",
       "      <td>NaN</td>\n",
       "      <td>0</td>\n",
       "      <td>NaN</td>\n",
       "      <td>3.0</td>\n",
       "      <td>1</td>\n",
       "      <td>3</td>\n",
       "      <td>4449.46200</td>\n",
       "    </tr>\n",
       "    <tr>\n",
       "      <th>3</th>\n",
       "      <td>33.0</td>\n",
       "      <td>0</td>\n",
       "      <td>22.705</td>\n",
       "      <td>0.0</td>\n",
       "      <td>1</td>\n",
       "      <td>1</td>\n",
       "      <td>21984.47061</td>\n",
       "    </tr>\n",
       "    <tr>\n",
       "      <th>4</th>\n",
       "      <td>32.0</td>\n",
       "      <td>0</td>\n",
       "      <td>28.880</td>\n",
       "      <td>0.0</td>\n",
       "      <td>1</td>\n",
       "      <td>1</td>\n",
       "      <td>3866.85520</td>\n",
       "    </tr>\n",
       "    <tr>\n",
       "      <th>...</th>\n",
       "      <td>...</td>\n",
       "      <td>...</td>\n",
       "      <td>...</td>\n",
       "      <td>...</td>\n",
       "      <td>...</td>\n",
       "      <td>...</td>\n",
       "      <td>...</td>\n",
       "    </tr>\n",
       "    <tr>\n",
       "      <th>1333</th>\n",
       "      <td>50.0</td>\n",
       "      <td>0</td>\n",
       "      <td>30.970</td>\n",
       "      <td>3.0</td>\n",
       "      <td>1</td>\n",
       "      <td>1</td>\n",
       "      <td>10600.54830</td>\n",
       "    </tr>\n",
       "    <tr>\n",
       "      <th>1334</th>\n",
       "      <td>18.0</td>\n",
       "      <td>1</td>\n",
       "      <td>31.920</td>\n",
       "      <td>0.0</td>\n",
       "      <td>1</td>\n",
       "      <td>2</td>\n",
       "      <td>2205.98080</td>\n",
       "    </tr>\n",
       "    <tr>\n",
       "      <th>1335</th>\n",
       "      <td>18.0</td>\n",
       "      <td>1</td>\n",
       "      <td>36.850</td>\n",
       "      <td>0.0</td>\n",
       "      <td>1</td>\n",
       "      <td>3</td>\n",
       "      <td>1629.83350</td>\n",
       "    </tr>\n",
       "    <tr>\n",
       "      <th>1336</th>\n",
       "      <td>21.0</td>\n",
       "      <td>1</td>\n",
       "      <td>25.800</td>\n",
       "      <td>NaN</td>\n",
       "      <td>1</td>\n",
       "      <td>0</td>\n",
       "      <td>2007.94500</td>\n",
       "    </tr>\n",
       "    <tr>\n",
       "      <th>1337</th>\n",
       "      <td>NaN</td>\n",
       "      <td>1</td>\n",
       "      <td>NaN</td>\n",
       "      <td>0.0</td>\n",
       "      <td>0</td>\n",
       "      <td>1</td>\n",
       "      <td>29141.36030</td>\n",
       "    </tr>\n",
       "  </tbody>\n",
       "</table>\n",
       "<p>1338 rows × 7 columns</p>\n",
       "</div>"
      ],
      "text/plain": [
       "       age  sex     bmi  children  smoker  region      charges\n",
       "0     19.0    1  27.900       0.0       0       0  16884.92400\n",
       "1     18.0    0  33.770       1.0       1       3   1725.55230\n",
       "2      NaN    0     NaN       3.0       1       3   4449.46200\n",
       "3     33.0    0  22.705       0.0       1       1  21984.47061\n",
       "4     32.0    0  28.880       0.0       1       1   3866.85520\n",
       "...    ...  ...     ...       ...     ...     ...          ...\n",
       "1333  50.0    0  30.970       3.0       1       1  10600.54830\n",
       "1334  18.0    1  31.920       0.0       1       2   2205.98080\n",
       "1335  18.0    1  36.850       0.0       1       3   1629.83350\n",
       "1336  21.0    1  25.800       NaN       1       0   2007.94500\n",
       "1337   NaN    1     NaN       0.0       0       1  29141.36030\n",
       "\n",
       "[1338 rows x 7 columns]"
      ]
     },
     "execution_count": 2,
     "metadata": {},
     "output_type": "execute_result"
    }
   ],
   "source": [
    "df = pd.read_csv(\"InsuranceCharge.csv\")\n",
    "df"
   ]
  },
  {
   "cell_type": "markdown",
   "id": "15ef7126",
   "metadata": {},
   "source": [
    "### Display different features of dataframe"
   ]
  },
  {
   "cell_type": "code",
   "execution_count": 3,
   "id": "9df9eb82",
   "metadata": {},
   "outputs": [
    {
     "name": "stdout",
     "output_type": "stream",
     "text": [
      "Total Features :  7\n",
      "Total Data     :  1338\n"
     ]
    }
   ],
   "source": [
    "print(\"Total Features : \",df.shape[1])\n",
    "print(\"Total Data     : \",df.shape[0])"
   ]
  },
  {
   "cell_type": "code",
   "execution_count": 4,
   "id": "295e069a",
   "metadata": {},
   "outputs": [
    {
     "name": "stdout",
     "output_type": "stream",
     "text": [
      "Featues :  ['age', 'sex', 'bmi', 'children', 'smoker', 'region', 'charges']\n"
     ]
    }
   ],
   "source": [
    "print(\"Featues : \",df.columns.tolist())"
   ]
  },
  {
   "cell_type": "code",
   "execution_count": 5,
   "id": "cf14a8cd",
   "metadata": {},
   "outputs": [
    {
     "data": {
      "text/plain": [
       "age         134\n",
       "sex           0\n",
       "bmi          67\n",
       "children    201\n",
       "smoker        0\n",
       "region        0\n",
       "charges       0\n",
       "dtype: int64"
      ]
     },
     "execution_count": 5,
     "metadata": {},
     "output_type": "execute_result"
    }
   ],
   "source": [
    "df.isnull().sum()"
   ]
  },
  {
   "cell_type": "markdown",
   "id": "de254864",
   "metadata": {},
   "source": [
    "### Performing data imputation"
   ]
  },
  {
   "cell_type": "code",
   "execution_count": 6,
   "id": "a6ec8f86",
   "metadata": {},
   "outputs": [],
   "source": [
    "df['age'].fillna(df['age'].mean(), inplace = True)\n",
    "df['bmi'].fillna(df['bmi'].mean(), inplace = True)\n",
    "df['children'].fillna(df['children'].median(), inplace = True)"
   ]
  },
  {
   "cell_type": "code",
   "execution_count": 7,
   "id": "41915e35",
   "metadata": {},
   "outputs": [
    {
     "data": {
      "text/html": [
       "<div>\n",
       "<style scoped>\n",
       "    .dataframe tbody tr th:only-of-type {\n",
       "        vertical-align: middle;\n",
       "    }\n",
       "\n",
       "    .dataframe tbody tr th {\n",
       "        vertical-align: top;\n",
       "    }\n",
       "\n",
       "    .dataframe thead th {\n",
       "        text-align: right;\n",
       "    }\n",
       "</style>\n",
       "<table border=\"1\" class=\"dataframe\">\n",
       "  <thead>\n",
       "    <tr style=\"text-align: right;\">\n",
       "      <th></th>\n",
       "      <th>age</th>\n",
       "      <th>sex</th>\n",
       "      <th>bmi</th>\n",
       "      <th>children</th>\n",
       "      <th>smoker</th>\n",
       "      <th>region</th>\n",
       "      <th>charges</th>\n",
       "    </tr>\n",
       "  </thead>\n",
       "  <tbody>\n",
       "    <tr>\n",
       "      <th>0</th>\n",
       "      <td>19.0</td>\n",
       "      <td>1</td>\n",
       "      <td>28.0</td>\n",
       "      <td>0.0</td>\n",
       "      <td>0</td>\n",
       "      <td>0</td>\n",
       "      <td>16884.92400</td>\n",
       "    </tr>\n",
       "    <tr>\n",
       "      <th>1</th>\n",
       "      <td>18.0</td>\n",
       "      <td>0</td>\n",
       "      <td>34.0</td>\n",
       "      <td>1.0</td>\n",
       "      <td>1</td>\n",
       "      <td>3</td>\n",
       "      <td>1725.55230</td>\n",
       "    </tr>\n",
       "    <tr>\n",
       "      <th>2</th>\n",
       "      <td>39.0</td>\n",
       "      <td>0</td>\n",
       "      <td>31.0</td>\n",
       "      <td>3.0</td>\n",
       "      <td>1</td>\n",
       "      <td>3</td>\n",
       "      <td>4449.46200</td>\n",
       "    </tr>\n",
       "    <tr>\n",
       "      <th>3</th>\n",
       "      <td>33.0</td>\n",
       "      <td>0</td>\n",
       "      <td>23.0</td>\n",
       "      <td>0.0</td>\n",
       "      <td>1</td>\n",
       "      <td>1</td>\n",
       "      <td>21984.47061</td>\n",
       "    </tr>\n",
       "    <tr>\n",
       "      <th>4</th>\n",
       "      <td>32.0</td>\n",
       "      <td>0</td>\n",
       "      <td>29.0</td>\n",
       "      <td>0.0</td>\n",
       "      <td>1</td>\n",
       "      <td>1</td>\n",
       "      <td>3866.85520</td>\n",
       "    </tr>\n",
       "    <tr>\n",
       "      <th>...</th>\n",
       "      <td>...</td>\n",
       "      <td>...</td>\n",
       "      <td>...</td>\n",
       "      <td>...</td>\n",
       "      <td>...</td>\n",
       "      <td>...</td>\n",
       "      <td>...</td>\n",
       "    </tr>\n",
       "    <tr>\n",
       "      <th>1333</th>\n",
       "      <td>50.0</td>\n",
       "      <td>0</td>\n",
       "      <td>31.0</td>\n",
       "      <td>3.0</td>\n",
       "      <td>1</td>\n",
       "      <td>1</td>\n",
       "      <td>10600.54830</td>\n",
       "    </tr>\n",
       "    <tr>\n",
       "      <th>1334</th>\n",
       "      <td>18.0</td>\n",
       "      <td>1</td>\n",
       "      <td>32.0</td>\n",
       "      <td>0.0</td>\n",
       "      <td>1</td>\n",
       "      <td>2</td>\n",
       "      <td>2205.98080</td>\n",
       "    </tr>\n",
       "    <tr>\n",
       "      <th>1335</th>\n",
       "      <td>18.0</td>\n",
       "      <td>1</td>\n",
       "      <td>37.0</td>\n",
       "      <td>0.0</td>\n",
       "      <td>1</td>\n",
       "      <td>3</td>\n",
       "      <td>1629.83350</td>\n",
       "    </tr>\n",
       "    <tr>\n",
       "      <th>1336</th>\n",
       "      <td>21.0</td>\n",
       "      <td>1</td>\n",
       "      <td>26.0</td>\n",
       "      <td>1.0</td>\n",
       "      <td>1</td>\n",
       "      <td>0</td>\n",
       "      <td>2007.94500</td>\n",
       "    </tr>\n",
       "    <tr>\n",
       "      <th>1337</th>\n",
       "      <td>39.0</td>\n",
       "      <td>1</td>\n",
       "      <td>31.0</td>\n",
       "      <td>0.0</td>\n",
       "      <td>0</td>\n",
       "      <td>1</td>\n",
       "      <td>29141.36030</td>\n",
       "    </tr>\n",
       "  </tbody>\n",
       "</table>\n",
       "<p>1338 rows × 7 columns</p>\n",
       "</div>"
      ],
      "text/plain": [
       "       age  sex   bmi  children  smoker  region      charges\n",
       "0     19.0    1  28.0       0.0       0       0  16884.92400\n",
       "1     18.0    0  34.0       1.0       1       3   1725.55230\n",
       "2     39.0    0  31.0       3.0       1       3   4449.46200\n",
       "3     33.0    0  23.0       0.0       1       1  21984.47061\n",
       "4     32.0    0  29.0       0.0       1       1   3866.85520\n",
       "...    ...  ...   ...       ...     ...     ...          ...\n",
       "1333  50.0    0  31.0       3.0       1       1  10600.54830\n",
       "1334  18.0    1  32.0       0.0       1       2   2205.98080\n",
       "1335  18.0    1  37.0       0.0       1       3   1629.83350\n",
       "1336  21.0    1  26.0       1.0       1       0   2007.94500\n",
       "1337  39.0    1  31.0       0.0       0       1  29141.36030\n",
       "\n",
       "[1338 rows x 7 columns]"
      ]
     },
     "execution_count": 7,
     "metadata": {},
     "output_type": "execute_result"
    }
   ],
   "source": [
    "df['age'] = df['age'].apply(lambda x: round(x, 0))\n",
    "df['bmi'] = df['bmi'].apply(lambda x: round(x, 0))\n",
    "df['age'] = df['age'].apply(lambda x: round(x, 0))\n",
    "df"
   ]
  },
  {
   "cell_type": "code",
   "execution_count": 8,
   "id": "2d78a77b",
   "metadata": {},
   "outputs": [
    {
     "data": {
      "image/png": "[encoded data removed]",
      "text/plain": [
       "<Figure size 1000x800 with 2 Axes>"
      ]
     },
     "metadata": {},
     "output_type": "display_data"
    }
   ],
   "source": [
    "plt.figure(figsize=(10,8))\n",
    "axis = sns.heatmap(df.corr(),cmap='coolwarm',cbar=True,annot=True)\n",
    "axis.set_title('correlation Heatmap', size=18)\n",
    "plt.show()"
   ]
  },
  {
   "cell_type": "markdown",
   "id": "d9e2804c",
   "metadata": {},
   "source": [
    "### Splitting the data into training and testing data"
   ]
  },
  {
   "cell_type": "code",
   "execution_count": 9,
   "id": "7c5d6afa",
   "metadata": {},
   "outputs": [],
   "source": [
    "X = df.drop('charges',axis=1)\n",
    "y = df['charges']"
   ]
  },
  {
   "cell_type": "code",
   "execution_count": 10,
   "id": "435bbcf4",
   "metadata": {},
   "outputs": [],
   "source": [
    "from sklearn.model_selection import train_test_split"
   ]
  },
  {
   "cell_type": "code",
   "execution_count": 11,
   "id": "bd70777b",
   "metadata": {},
   "outputs": [],
   "source": [
    "X_train, X_test, y_train, y_test = train_test_split(X,y,test_size=0.3,random_state=21)"
   ]
  },
  {
   "cell_type": "markdown",
   "id": "6b374497",
   "metadata": {},
   "source": [
    "### Creating and executing the multiple linear regression model"
   ]
  },
  {
   "cell_type": "code",
   "execution_count": 12,
   "id": "daf94c16",
   "metadata": {},
   "outputs": [],
   "source": [
    "from sklearn.linear_model import LinearRegression\n",
    "from sklearn.metrics import mean_absolute_error,mean_squared_error,r2_score"
   ]
  },
  {
   "cell_type": "code",
   "execution_count": 13,
   "id": "41d1e798",
   "metadata": {},
   "outputs": [],
   "source": [
    "lr_regressor = LinearRegression()\n",
    "lr_regressor.fit(X_train,y_train)\n",
    "lr_y = lr_regressor.predict(X_test)"
   ]
  },
  {
   "cell_type": "code",
   "execution_count": 14,
   "id": "77ad0d80",
   "metadata": {},
   "outputs": [
    {
     "name": "stderr",
     "output_type": "stream",
     "text": [
      "C:\\Users\\clivinjohn.geju\\Anaconda3\\lib\\site-packages\\seaborn\\distributions.py:2619: FutureWarning: `distplot` is a deprecated function and will be removed in a future version. Please adapt your code to use either `displot` (a figure-level function with similar flexibility) or `histplot` (an axes-level function for histograms).\n",
      "  warnings.warn(msg, FutureWarning)\n"
     ]
    },
    {
     "data": {
      "text/plain": [
       "<AxesSubplot:xlabel='charges', ylabel='Density'>"
      ]
     },
     "execution_count": 14,
     "metadata": {},
     "output_type": "execute_result"
    },
    {
     "data": {
      "image/png": "[encoded data removed]",
      "text/plain": [
       "<Figure size 640x480 with 1 Axes>"
      ]
     },
     "metadata": {},
     "output_type": "display_data"
    }
   ],
   "source": [
    "sns.distplot(lr_y-y_test)"
   ]
  },
  {
   "cell_type": "code",
   "execution_count": 15,
   "id": "0a69c1e2",
   "metadata": {},
   "outputs": [
    {
     "name": "stdout",
     "output_type": "stream",
     "text": [
      "Coefficient o R^2 <-- on train data : 0.7460916554357143\n",
      "Coefficient o R^2 <-- on test data : 0.7228387172504791\n",
      "Mean absolute Error :  4357.601557667185\n",
      "Mean squared Error :  37933285.298837304\n",
      "Root Mean Squared Error :  6159.000348988244\n"
     ]
    }
   ],
   "source": [
    "print('Coefficient o R^2 <-- on train data : {}'.format(lr_regressor.score(X_train,y_train)))\n",
    "print('Coefficient o R^2 <-- on test data : {}'.format(lr_regressor.score(X_test,y_test)))\n",
    "print(\"Mean absolute Error : \",mean_absolute_error(lr_y,y_test))\n",
    "print(\"Mean squared Error : \",mean_squared_error(lr_y,y_test))\n",
    "print(\"Root Mean Squared Error : \",np.sqrt(mean_squared_error(lr_y,y_test)))"
   ]
  },
  {
   "cell_type": "code",
   "execution_count": 16,
   "id": "e3973c76",
   "metadata": {},
   "outputs": [
    {
     "name": "stdout",
     "output_type": "stream",
     "text": [
      "                            OLS Regression Results                            \n",
      "==============================================================================\n",
      "Dep. Variable:                charges   R-squared:                       0.746\n",
      "Model:                            OLS   Adj. R-squared:                  0.744\n",
      "Method:                 Least Squares   F-statistic:                     455.0\n",
      "Date:                Fri, 14 Oct 2022   Prob (F-statistic):          1.80e-272\n",
      "Time:                        14:18:30   Log-Likelihood:                -9498.7\n",
      "No. Observations:                 936   AIC:                         1.901e+04\n",
      "Df Residuals:                     929   BIC:                         1.905e+04\n",
      "Df Model:                           6                                         \n",
      "Covariance Type:            nonrobust                                         \n",
      "==============================================================================\n",
      "                 coef    std err          t      P>|t|      [0.025      0.975]\n",
      "------------------------------------------------------------------------------\n",
      "const       1.161e+04   1292.996      8.977      0.000    9069.195    1.41e+04\n",
      "age          262.4980     15.111     17.372      0.000     232.843     292.153\n",
      "sex          368.2718    407.918      0.903      0.367    -432.275    1168.818\n",
      "bmi          314.4210     35.445      8.871      0.000     244.859     383.983\n",
      "children     601.0151    188.234      3.193      0.001     231.603     970.427\n",
      "smoker     -2.408e+04    513.144    -46.921      0.000   -2.51e+04   -2.31e+04\n",
      "region        95.1355    182.135      0.522      0.602    -262.308     452.579\n",
      "==============================================================================\n",
      "Omnibus:                      199.864   Durbin-Watson:                   1.925\n",
      "Prob(Omnibus):                  0.000   Jarque-Bera (JB):              462.183\n",
      "Skew:                           1.151   Prob(JB):                    4.35e-101\n",
      "Kurtosis:                       5.560   Cond. No.                         327.\n",
      "==============================================================================\n",
      "\n",
      "Notes:\n",
      "[1] Standard Errors assume that the covariance matrix of the errors is correctly specified.\n"
     ]
    }
   ],
   "source": [
    "import statsmodels.api as sm\n",
    "x_train = sm.add_constant(X_train)\n",
    "modell = sm.OLS(y_train, x_train)\n",
    "resultt = modell.fit()\n",
    "\n",
    "# Print summary of model \n",
    "print(resultt.summary())"
   ]
  },
  {
   "cell_type": "markdown",
   "id": "c7a132cd",
   "metadata": {},
   "source": [
    "### Testing model with user input data"
   ]
  },
  {
   "cell_type": "markdown",
   "id": "fea4a1c8",
   "metadata": {},
   "source": [
    "ans = True<br>\n",
    "while ans == True:<br>\n",
    "    age = float(input(\"Enter age: \"))<br>\n",
    "    sex = int(input(\"Enter gender [Female - 1, Male - 0]: \"))<br>\n",
    "    bmi = float(input(\"Enter bmi: \"))<br>\n",
    "    children = float(input(\"Enter number of children: \"))<br>\n",
    "    smoker = int(input(\"Enter whether patient a smoker [Yes - 0, No - 1]: \"))<br>\n",
    "    region = int(input(\"Enter region [southwest - 0, souteast - 3, northwest - 1, northeast - 2]: \"))<br>\n",
    "    agef = round(age, 0)<br>\n",
    "    bmif = round(bmi, 0)<br>\n",
    "    temp = pd.df([agef, sex, bmif, children, smoker, region])<br>\n",
    "    df.append(temp)\n",
    "    predf = agef * resultt.params[1] - sex * resultt.params[2] + bmif * resultt.params[3] + children * resultt.params[4] \n",
    "    - smoker * resultt.params[5] + region * resultt.params[6] + resultt.params[0]\n",
    "    print(\"The predicted cost for the patient is:\", predf)<br>\n",
    "    cont = input(\"Continue? [Yes - Y/y, No - N/n]: \")<br>\n",
    "    if cont == \"N\" or cont == \"n\":\n",
    "        ans = False"
   ]
  },
  {
   "cell_type": "code",
   "execution_count": 17,
   "id": "7e73ad79",
   "metadata": {},
   "outputs": [],
   "source": [
    "# age = float(input(\"Enter age: \"))\n",
    "# sex = int(input(\"Enter gender [Female - 1, Male - 0]: \"))\n",
    "# bmi = float(input(\"Enter bmi: \"))\n",
    "# children = float(input(\"Enter number of children: \"))\n",
    "# smoker = int(input(\"Enter whether patient a smoker [Yes - 0, No - 1]: \"))\n",
    "# region = int(input(\"Enter region [southwest - 0, souteast - 3, northwest - 1, northeast - 2]: \"))"
   ]
  },
  {
   "cell_type": "code",
   "execution_count": 18,
   "id": "e3202c97",
   "metadata": {},
   "outputs": [],
   "source": [
    "# agef = round(age, 0)\n",
    "# bmif = round(bmi, 0)\n",
    "# childrenf = round(children, 0)"
   ]
  },
  {
   "cell_type": "code",
   "execution_count": 19,
   "id": "7ae62a62",
   "metadata": {},
   "outputs": [],
   "source": [
    "# predf = agef * resultt.params[1] - sex * resultt.params[2] + bmif * resultt.params[3] + childrenf * resultt.params[4] - smoker * resultt.params[5] + region * resultt.params[6] + resultt.params[0]\n",
    "# print(\"The predicted cost for the patient is:\", predf)"
   ]
  }
 ],
 "metadata": {
  "kernelspec": {
   "display_name": "Python 3 (ipykernel)",
   "language": "python",
   "name": "python3"
  },
  "language_info": {
   "codemirror_mode": {
    "name": "ipython",
    "version": 3
   },
   "file_extension": ".py",
   "mimetype": "text/x-python",
   "name": "python",
   "nbconvert_exporter": "python",
   "pygments_lexer": "ipython3",
   "version": "3.9.12"
  }
 },
 "nbformat": 4,
 "nbformat_minor": 5
}
